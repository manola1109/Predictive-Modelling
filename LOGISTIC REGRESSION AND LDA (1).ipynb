{
 "cells": [
  {
   "cell_type": "code",
   "execution_count": 1,
   "id": "3f12abe0",
   "metadata": {},
   "outputs": [],
   "source": [
    "import numpy as np\n",
    "import pandas as pd\n",
    "import seaborn as sns\n",
    "import matplotlib.pyplot as plt\n",
    "import seaborn\n",
    "import sklearn\n",
    "from sklearn import tree\n",
    "from sklearn.discriminant_analysis import LinearDiscriminantAnalysis\n",
    "from sklearn.ensemble import RandomForestClassifier\n",
    "from sklearn.model_selection import GridSearchCV\n",
    "from sklearn import metrics\n",
    "from sklearn.model_selection import train_test_split\n",
    "from sklearn.feature_extraction.text import TfidfVectorizer\n",
    "from sklearn.metrics import roc_auc_score,roc_curve\n",
    "import warnings\n",
    "warnings.filterwarnings('ignore')\n",
    "from sklearn.linear_model import LogisticRegression"
   ]
  },
  {
   "cell_type": "code",
   "execution_count": 2,
   "id": "3ddd6abc",
   "metadata": {},
   "outputs": [],
   "source": [
    "df= pd.read_csv('Car_Crash (2).csv')\n"
   ]
  },
  {
   "cell_type": "code",
   "execution_count": 3,
   "id": "918a29c5",
   "metadata": {},
   "outputs": [
    {
     "data": {
      "text/html": [
       "<div>\n",
       "<style scoped>\n",
       "    .dataframe tbody tr th:only-of-type {\n",
       "        vertical-align: middle;\n",
       "    }\n",
       "\n",
       "    .dataframe tbody tr th {\n",
       "        vertical-align: top;\n",
       "    }\n",
       "\n",
       "    .dataframe thead th {\n",
       "        text-align: right;\n",
       "    }\n",
       "</style>\n",
       "<table border=\"1\" class=\"dataframe\">\n",
       "  <thead>\n",
       "    <tr style=\"text-align: right;\">\n",
       "      <th></th>\n",
       "      <th>Unnamed: 0</th>\n",
       "      <th>dvcat</th>\n",
       "      <th>weight</th>\n",
       "      <th>Survived</th>\n",
       "      <th>airbag</th>\n",
       "      <th>seatbelt</th>\n",
       "      <th>frontal</th>\n",
       "      <th>sex</th>\n",
       "      <th>ageOFocc</th>\n",
       "      <th>yearacc</th>\n",
       "      <th>yearVeh</th>\n",
       "      <th>abcat</th>\n",
       "      <th>occRole</th>\n",
       "      <th>deploy</th>\n",
       "      <th>injSeverity</th>\n",
       "      <th>caseid</th>\n",
       "    </tr>\n",
       "  </thead>\n",
       "  <tbody>\n",
       "    <tr>\n",
       "      <th>0</th>\n",
       "      <td>0</td>\n",
       "      <td>55+</td>\n",
       "      <td>27.078</td>\n",
       "      <td>Not_Survived</td>\n",
       "      <td>none</td>\n",
       "      <td>none</td>\n",
       "      <td>1</td>\n",
       "      <td>m</td>\n",
       "      <td>32</td>\n",
       "      <td>1997</td>\n",
       "      <td>1987.0</td>\n",
       "      <td>unavail</td>\n",
       "      <td>driver</td>\n",
       "      <td>0</td>\n",
       "      <td>4.0</td>\n",
       "      <td>2:13:2</td>\n",
       "    </tr>\n",
       "    <tr>\n",
       "      <th>1</th>\n",
       "      <td>1</td>\n",
       "      <td>25-39</td>\n",
       "      <td>89.627</td>\n",
       "      <td>Not_Survived</td>\n",
       "      <td>airbag</td>\n",
       "      <td>belted</td>\n",
       "      <td>0</td>\n",
       "      <td>f</td>\n",
       "      <td>54</td>\n",
       "      <td>1997</td>\n",
       "      <td>1994.0</td>\n",
       "      <td>nodeploy</td>\n",
       "      <td>driver</td>\n",
       "      <td>0</td>\n",
       "      <td>4.0</td>\n",
       "      <td>2:17:1</td>\n",
       "    </tr>\n",
       "    <tr>\n",
       "      <th>2</th>\n",
       "      <td>2</td>\n",
       "      <td>55+</td>\n",
       "      <td>27.078</td>\n",
       "      <td>Not_Survived</td>\n",
       "      <td>none</td>\n",
       "      <td>belted</td>\n",
       "      <td>1</td>\n",
       "      <td>m</td>\n",
       "      <td>67</td>\n",
       "      <td>1997</td>\n",
       "      <td>1992.0</td>\n",
       "      <td>unavail</td>\n",
       "      <td>driver</td>\n",
       "      <td>0</td>\n",
       "      <td>4.0</td>\n",
       "      <td>2:79:1</td>\n",
       "    </tr>\n",
       "    <tr>\n",
       "      <th>3</th>\n",
       "      <td>3</td>\n",
       "      <td>55+</td>\n",
       "      <td>27.078</td>\n",
       "      <td>Not_Survived</td>\n",
       "      <td>none</td>\n",
       "      <td>belted</td>\n",
       "      <td>1</td>\n",
       "      <td>f</td>\n",
       "      <td>64</td>\n",
       "      <td>1997</td>\n",
       "      <td>1992.0</td>\n",
       "      <td>unavail</td>\n",
       "      <td>pass</td>\n",
       "      <td>0</td>\n",
       "      <td>4.0</td>\n",
       "      <td>2:79:1</td>\n",
       "    </tr>\n",
       "    <tr>\n",
       "      <th>4</th>\n",
       "      <td>4</td>\n",
       "      <td>55+</td>\n",
       "      <td>13.374</td>\n",
       "      <td>Not_Survived</td>\n",
       "      <td>none</td>\n",
       "      <td>none</td>\n",
       "      <td>1</td>\n",
       "      <td>m</td>\n",
       "      <td>23</td>\n",
       "      <td>1997</td>\n",
       "      <td>1986.0</td>\n",
       "      <td>unavail</td>\n",
       "      <td>driver</td>\n",
       "      <td>0</td>\n",
       "      <td>4.0</td>\n",
       "      <td>4:58:1</td>\n",
       "    </tr>\n",
       "  </tbody>\n",
       "</table>\n",
       "</div>"
      ],
      "text/plain": [
       "   Unnamed: 0  dvcat  weight      Survived  airbag seatbelt  frontal sex  \\\n",
       "0           0    55+  27.078  Not_Survived    none     none        1   m   \n",
       "1           1  25-39  89.627  Not_Survived  airbag   belted        0   f   \n",
       "2           2    55+  27.078  Not_Survived    none   belted        1   m   \n",
       "3           3    55+  27.078  Not_Survived    none   belted        1   f   \n",
       "4           4    55+  13.374  Not_Survived    none     none        1   m   \n",
       "\n",
       "   ageOFocc  yearacc  yearVeh     abcat occRole  deploy  injSeverity  caseid  \n",
       "0        32     1997   1987.0   unavail  driver       0          4.0  2:13:2  \n",
       "1        54     1997   1994.0  nodeploy  driver       0          4.0  2:17:1  \n",
       "2        67     1997   1992.0   unavail  driver       0          4.0  2:79:1  \n",
       "3        64     1997   1992.0   unavail    pass       0          4.0  2:79:1  \n",
       "4        23     1997   1986.0   unavail  driver       0          4.0  4:58:1  "
      ]
     },
     "execution_count": 3,
     "metadata": {},
     "output_type": "execute_result"
    }
   ],
   "source": [
    "df.head()\n"
   ]
  },
  {
   "cell_type": "code",
   "execution_count": 4,
   "id": "db2cf5e8",
   "metadata": {},
   "outputs": [],
   "source": [
    "df=df.drop('Unnamed: 0',axis=1)"
   ]
  },
  {
   "cell_type": "code",
   "execution_count": 5,
   "id": "d1b6f127",
   "metadata": {},
   "outputs": [
    {
     "data": {
      "text/html": [
       "<div>\n",
       "<style scoped>\n",
       "    .dataframe tbody tr th:only-of-type {\n",
       "        vertical-align: middle;\n",
       "    }\n",
       "\n",
       "    .dataframe tbody tr th {\n",
       "        vertical-align: top;\n",
       "    }\n",
       "\n",
       "    .dataframe thead th {\n",
       "        text-align: right;\n",
       "    }\n",
       "</style>\n",
       "<table border=\"1\" class=\"dataframe\">\n",
       "  <thead>\n",
       "    <tr style=\"text-align: right;\">\n",
       "      <th></th>\n",
       "      <th>count</th>\n",
       "      <th>unique</th>\n",
       "      <th>top</th>\n",
       "      <th>freq</th>\n",
       "      <th>mean</th>\n",
       "      <th>std</th>\n",
       "      <th>min</th>\n",
       "      <th>25%</th>\n",
       "      <th>50%</th>\n",
       "      <th>75%</th>\n",
       "      <th>max</th>\n",
       "    </tr>\n",
       "  </thead>\n",
       "  <tbody>\n",
       "    <tr>\n",
       "      <th>dvcat</th>\n",
       "      <td>11217</td>\n",
       "      <td>5</td>\n",
       "      <td>10-24</td>\n",
       "      <td>5414</td>\n",
       "      <td>NaN</td>\n",
       "      <td>NaN</td>\n",
       "      <td>NaN</td>\n",
       "      <td>NaN</td>\n",
       "      <td>NaN</td>\n",
       "      <td>NaN</td>\n",
       "      <td>NaN</td>\n",
       "    </tr>\n",
       "    <tr>\n",
       "      <th>weight</th>\n",
       "      <td>11217.0</td>\n",
       "      <td>NaN</td>\n",
       "      <td>NaN</td>\n",
       "      <td>NaN</td>\n",
       "      <td>431.405309</td>\n",
       "      <td>1406.202941</td>\n",
       "      <td>0.0</td>\n",
       "      <td>28.292</td>\n",
       "      <td>82.195</td>\n",
       "      <td>324.056</td>\n",
       "      <td>31694.04</td>\n",
       "    </tr>\n",
       "    <tr>\n",
       "      <th>Survived</th>\n",
       "      <td>11217</td>\n",
       "      <td>2</td>\n",
       "      <td>survived</td>\n",
       "      <td>10037</td>\n",
       "      <td>NaN</td>\n",
       "      <td>NaN</td>\n",
       "      <td>NaN</td>\n",
       "      <td>NaN</td>\n",
       "      <td>NaN</td>\n",
       "      <td>NaN</td>\n",
       "      <td>NaN</td>\n",
       "    </tr>\n",
       "    <tr>\n",
       "      <th>airbag</th>\n",
       "      <td>11217</td>\n",
       "      <td>2</td>\n",
       "      <td>airbag</td>\n",
       "      <td>7064</td>\n",
       "      <td>NaN</td>\n",
       "      <td>NaN</td>\n",
       "      <td>NaN</td>\n",
       "      <td>NaN</td>\n",
       "      <td>NaN</td>\n",
       "      <td>NaN</td>\n",
       "      <td>NaN</td>\n",
       "    </tr>\n",
       "    <tr>\n",
       "      <th>seatbelt</th>\n",
       "      <td>11217</td>\n",
       "      <td>2</td>\n",
       "      <td>belted</td>\n",
       "      <td>7849</td>\n",
       "      <td>NaN</td>\n",
       "      <td>NaN</td>\n",
       "      <td>NaN</td>\n",
       "      <td>NaN</td>\n",
       "      <td>NaN</td>\n",
       "      <td>NaN</td>\n",
       "      <td>NaN</td>\n",
       "    </tr>\n",
       "    <tr>\n",
       "      <th>frontal</th>\n",
       "      <td>11217.0</td>\n",
       "      <td>NaN</td>\n",
       "      <td>NaN</td>\n",
       "      <td>NaN</td>\n",
       "      <td>0.644022</td>\n",
       "      <td>0.47883</td>\n",
       "      <td>0.0</td>\n",
       "      <td>0.0</td>\n",
       "      <td>1.0</td>\n",
       "      <td>1.0</td>\n",
       "      <td>1.0</td>\n",
       "    </tr>\n",
       "    <tr>\n",
       "      <th>sex</th>\n",
       "      <td>11217</td>\n",
       "      <td>2</td>\n",
       "      <td>m</td>\n",
       "      <td>6048</td>\n",
       "      <td>NaN</td>\n",
       "      <td>NaN</td>\n",
       "      <td>NaN</td>\n",
       "      <td>NaN</td>\n",
       "      <td>NaN</td>\n",
       "      <td>NaN</td>\n",
       "      <td>NaN</td>\n",
       "    </tr>\n",
       "    <tr>\n",
       "      <th>ageOFocc</th>\n",
       "      <td>11217.0</td>\n",
       "      <td>NaN</td>\n",
       "      <td>NaN</td>\n",
       "      <td>NaN</td>\n",
       "      <td>37.427654</td>\n",
       "      <td>18.192429</td>\n",
       "      <td>16.0</td>\n",
       "      <td>22.0</td>\n",
       "      <td>33.0</td>\n",
       "      <td>48.0</td>\n",
       "      <td>97.0</td>\n",
       "    </tr>\n",
       "    <tr>\n",
       "      <th>yearacc</th>\n",
       "      <td>11217.0</td>\n",
       "      <td>NaN</td>\n",
       "      <td>NaN</td>\n",
       "      <td>NaN</td>\n",
       "      <td>2001.103236</td>\n",
       "      <td>1.056805</td>\n",
       "      <td>1997.0</td>\n",
       "      <td>2001.0</td>\n",
       "      <td>2001.0</td>\n",
       "      <td>2002.0</td>\n",
       "      <td>2002.0</td>\n",
       "    </tr>\n",
       "    <tr>\n",
       "      <th>yearVeh</th>\n",
       "      <td>11217.0</td>\n",
       "      <td>NaN</td>\n",
       "      <td>NaN</td>\n",
       "      <td>NaN</td>\n",
       "      <td>1994.177944</td>\n",
       "      <td>5.658704</td>\n",
       "      <td>1953.0</td>\n",
       "      <td>1991.0</td>\n",
       "      <td>1995.0</td>\n",
       "      <td>1999.0</td>\n",
       "      <td>2003.0</td>\n",
       "    </tr>\n",
       "    <tr>\n",
       "      <th>abcat</th>\n",
       "      <td>11217</td>\n",
       "      <td>3</td>\n",
       "      <td>deploy</td>\n",
       "      <td>4365</td>\n",
       "      <td>NaN</td>\n",
       "      <td>NaN</td>\n",
       "      <td>NaN</td>\n",
       "      <td>NaN</td>\n",
       "      <td>NaN</td>\n",
       "      <td>NaN</td>\n",
       "      <td>NaN</td>\n",
       "    </tr>\n",
       "    <tr>\n",
       "      <th>occRole</th>\n",
       "      <td>11217</td>\n",
       "      <td>2</td>\n",
       "      <td>driver</td>\n",
       "      <td>8786</td>\n",
       "      <td>NaN</td>\n",
       "      <td>NaN</td>\n",
       "      <td>NaN</td>\n",
       "      <td>NaN</td>\n",
       "      <td>NaN</td>\n",
       "      <td>NaN</td>\n",
       "      <td>NaN</td>\n",
       "    </tr>\n",
       "    <tr>\n",
       "      <th>deploy</th>\n",
       "      <td>11217.0</td>\n",
       "      <td>NaN</td>\n",
       "      <td>NaN</td>\n",
       "      <td>NaN</td>\n",
       "      <td>0.389141</td>\n",
       "      <td>0.487577</td>\n",
       "      <td>0.0</td>\n",
       "      <td>0.0</td>\n",
       "      <td>0.0</td>\n",
       "      <td>1.0</td>\n",
       "      <td>1.0</td>\n",
       "    </tr>\n",
       "    <tr>\n",
       "      <th>injSeverity</th>\n",
       "      <td>11140.0</td>\n",
       "      <td>NaN</td>\n",
       "      <td>NaN</td>\n",
       "      <td>NaN</td>\n",
       "      <td>1.825583</td>\n",
       "      <td>1.378535</td>\n",
       "      <td>0.0</td>\n",
       "      <td>1.0</td>\n",
       "      <td>2.0</td>\n",
       "      <td>3.0</td>\n",
       "      <td>5.0</td>\n",
       "    </tr>\n",
       "    <tr>\n",
       "      <th>caseid</th>\n",
       "      <td>11217</td>\n",
       "      <td>6488</td>\n",
       "      <td>73:100:2</td>\n",
       "      <td>7</td>\n",
       "      <td>NaN</td>\n",
       "      <td>NaN</td>\n",
       "      <td>NaN</td>\n",
       "      <td>NaN</td>\n",
       "      <td>NaN</td>\n",
       "      <td>NaN</td>\n",
       "      <td>NaN</td>\n",
       "    </tr>\n",
       "  </tbody>\n",
       "</table>\n",
       "</div>"
      ],
      "text/plain": [
       "               count unique       top   freq         mean          std  \\\n",
       "dvcat          11217      5     10-24   5414          NaN          NaN   \n",
       "weight       11217.0    NaN       NaN    NaN   431.405309  1406.202941   \n",
       "Survived       11217      2  survived  10037          NaN          NaN   \n",
       "airbag         11217      2    airbag   7064          NaN          NaN   \n",
       "seatbelt       11217      2    belted   7849          NaN          NaN   \n",
       "frontal      11217.0    NaN       NaN    NaN     0.644022      0.47883   \n",
       "sex            11217      2         m   6048          NaN          NaN   \n",
       "ageOFocc     11217.0    NaN       NaN    NaN    37.427654    18.192429   \n",
       "yearacc      11217.0    NaN       NaN    NaN  2001.103236     1.056805   \n",
       "yearVeh      11217.0    NaN       NaN    NaN  1994.177944     5.658704   \n",
       "abcat          11217      3    deploy   4365          NaN          NaN   \n",
       "occRole        11217      2    driver   8786          NaN          NaN   \n",
       "deploy       11217.0    NaN       NaN    NaN     0.389141     0.487577   \n",
       "injSeverity  11140.0    NaN       NaN    NaN     1.825583     1.378535   \n",
       "caseid         11217   6488  73:100:2      7          NaN          NaN   \n",
       "\n",
       "                min     25%     50%      75%       max  \n",
       "dvcat           NaN     NaN     NaN      NaN       NaN  \n",
       "weight          0.0  28.292  82.195  324.056  31694.04  \n",
       "Survived        NaN     NaN     NaN      NaN       NaN  \n",
       "airbag          NaN     NaN     NaN      NaN       NaN  \n",
       "seatbelt        NaN     NaN     NaN      NaN       NaN  \n",
       "frontal         0.0     0.0     1.0      1.0       1.0  \n",
       "sex             NaN     NaN     NaN      NaN       NaN  \n",
       "ageOFocc       16.0    22.0    33.0     48.0      97.0  \n",
       "yearacc      1997.0  2001.0  2001.0   2002.0    2002.0  \n",
       "yearVeh      1953.0  1991.0  1995.0   1999.0    2003.0  \n",
       "abcat           NaN     NaN     NaN      NaN       NaN  \n",
       "occRole         NaN     NaN     NaN      NaN       NaN  \n",
       "deploy          0.0     0.0     0.0      1.0       1.0  \n",
       "injSeverity     0.0     1.0     2.0      3.0       5.0  \n",
       "caseid          NaN     NaN     NaN      NaN       NaN  "
      ]
     },
     "execution_count": 5,
     "metadata": {},
     "output_type": "execute_result"
    }
   ],
   "source": [
    "df.describe(include ='all').T\n"
   ]
  },
  {
   "cell_type": "code",
   "execution_count": 6,
   "id": "fe1c0925",
   "metadata": {},
   "outputs": [
    {
     "data": {
      "text/html": [
       "<div>\n",
       "<style scoped>\n",
       "    .dataframe tbody tr th:only-of-type {\n",
       "        vertical-align: middle;\n",
       "    }\n",
       "\n",
       "    .dataframe tbody tr th {\n",
       "        vertical-align: top;\n",
       "    }\n",
       "\n",
       "    .dataframe thead th {\n",
       "        text-align: right;\n",
       "    }\n",
       "</style>\n",
       "<table border=\"1\" class=\"dataframe\">\n",
       "  <thead>\n",
       "    <tr style=\"text-align: right;\">\n",
       "      <th></th>\n",
       "      <th>weight</th>\n",
       "      <th>frontal</th>\n",
       "      <th>ageOFocc</th>\n",
       "      <th>yearacc</th>\n",
       "      <th>yearVeh</th>\n",
       "      <th>deploy</th>\n",
       "      <th>injSeverity</th>\n",
       "    </tr>\n",
       "  </thead>\n",
       "  <tbody>\n",
       "    <tr>\n",
       "      <th>count</th>\n",
       "      <td>11217.000000</td>\n",
       "      <td>11217.000000</td>\n",
       "      <td>11217.000000</td>\n",
       "      <td>11217.000000</td>\n",
       "      <td>11217.000000</td>\n",
       "      <td>11217.000000</td>\n",
       "      <td>11140.000000</td>\n",
       "    </tr>\n",
       "    <tr>\n",
       "      <th>mean</th>\n",
       "      <td>431.405309</td>\n",
       "      <td>0.644022</td>\n",
       "      <td>37.427654</td>\n",
       "      <td>2001.103236</td>\n",
       "      <td>1994.177944</td>\n",
       "      <td>0.389141</td>\n",
       "      <td>1.825583</td>\n",
       "    </tr>\n",
       "    <tr>\n",
       "      <th>std</th>\n",
       "      <td>1406.202941</td>\n",
       "      <td>0.478830</td>\n",
       "      <td>18.192429</td>\n",
       "      <td>1.056805</td>\n",
       "      <td>5.658704</td>\n",
       "      <td>0.487577</td>\n",
       "      <td>1.378535</td>\n",
       "    </tr>\n",
       "    <tr>\n",
       "      <th>min</th>\n",
       "      <td>0.000000</td>\n",
       "      <td>0.000000</td>\n",
       "      <td>16.000000</td>\n",
       "      <td>1997.000000</td>\n",
       "      <td>1953.000000</td>\n",
       "      <td>0.000000</td>\n",
       "      <td>0.000000</td>\n",
       "    </tr>\n",
       "    <tr>\n",
       "      <th>25%</th>\n",
       "      <td>28.292000</td>\n",
       "      <td>0.000000</td>\n",
       "      <td>22.000000</td>\n",
       "      <td>2001.000000</td>\n",
       "      <td>1991.000000</td>\n",
       "      <td>0.000000</td>\n",
       "      <td>1.000000</td>\n",
       "    </tr>\n",
       "    <tr>\n",
       "      <th>50%</th>\n",
       "      <td>82.195000</td>\n",
       "      <td>1.000000</td>\n",
       "      <td>33.000000</td>\n",
       "      <td>2001.000000</td>\n",
       "      <td>1995.000000</td>\n",
       "      <td>0.000000</td>\n",
       "      <td>2.000000</td>\n",
       "    </tr>\n",
       "    <tr>\n",
       "      <th>75%</th>\n",
       "      <td>324.056000</td>\n",
       "      <td>1.000000</td>\n",
       "      <td>48.000000</td>\n",
       "      <td>2002.000000</td>\n",
       "      <td>1999.000000</td>\n",
       "      <td>1.000000</td>\n",
       "      <td>3.000000</td>\n",
       "    </tr>\n",
       "    <tr>\n",
       "      <th>max</th>\n",
       "      <td>31694.040000</td>\n",
       "      <td>1.000000</td>\n",
       "      <td>97.000000</td>\n",
       "      <td>2002.000000</td>\n",
       "      <td>2003.000000</td>\n",
       "      <td>1.000000</td>\n",
       "      <td>5.000000</td>\n",
       "    </tr>\n",
       "  </tbody>\n",
       "</table>\n",
       "</div>"
      ],
      "text/plain": [
       "             weight       frontal      ageOFocc       yearacc       yearVeh  \\\n",
       "count  11217.000000  11217.000000  11217.000000  11217.000000  11217.000000   \n",
       "mean     431.405309      0.644022     37.427654   2001.103236   1994.177944   \n",
       "std     1406.202941      0.478830     18.192429      1.056805      5.658704   \n",
       "min        0.000000      0.000000     16.000000   1997.000000   1953.000000   \n",
       "25%       28.292000      0.000000     22.000000   2001.000000   1991.000000   \n",
       "50%       82.195000      1.000000     33.000000   2001.000000   1995.000000   \n",
       "75%      324.056000      1.000000     48.000000   2002.000000   1999.000000   \n",
       "max    31694.040000      1.000000     97.000000   2002.000000   2003.000000   \n",
       "\n",
       "             deploy   injSeverity  \n",
       "count  11217.000000  11140.000000  \n",
       "mean       0.389141      1.825583  \n",
       "std        0.487577      1.378535  \n",
       "min        0.000000      0.000000  \n",
       "25%        0.000000      1.000000  \n",
       "50%        0.000000      2.000000  \n",
       "75%        1.000000      3.000000  \n",
       "max        1.000000      5.000000  "
      ]
     },
     "execution_count": 6,
     "metadata": {},
     "output_type": "execute_result"
    }
   ],
   "source": [
    "df.describe()"
   ]
  },
  {
   "cell_type": "code",
   "execution_count": 7,
   "id": "7f20406d",
   "metadata": {},
   "outputs": [
    {
     "name": "stdout",
     "output_type": "stream",
     "text": [
      "the no of rows 11217 & the no of colums  15\n"
     ]
    }
   ],
   "source": [
    "print(\"the no of rows\",df.shape[0],\"&\", \"the no of colums \",df.shape[1])"
   ]
  },
  {
   "cell_type": "code",
   "execution_count": 8,
   "id": "4a2063f6",
   "metadata": {},
   "outputs": [
    {
     "name": "stdout",
     "output_type": "stream",
     "text": [
      "<class 'pandas.core.frame.DataFrame'>\n",
      "RangeIndex: 11217 entries, 0 to 11216\n",
      "Data columns (total 15 columns):\n",
      " #   Column       Non-Null Count  Dtype  \n",
      "---  ------       --------------  -----  \n",
      " 0   dvcat        11217 non-null  object \n",
      " 1   weight       11217 non-null  float64\n",
      " 2   Survived     11217 non-null  object \n",
      " 3   airbag       11217 non-null  object \n",
      " 4   seatbelt     11217 non-null  object \n",
      " 5   frontal      11217 non-null  int64  \n",
      " 6   sex          11217 non-null  object \n",
      " 7   ageOFocc     11217 non-null  int64  \n",
      " 8   yearacc      11217 non-null  int64  \n",
      " 9   yearVeh      11217 non-null  float64\n",
      " 10  abcat        11217 non-null  object \n",
      " 11  occRole      11217 non-null  object \n",
      " 12  deploy       11217 non-null  int64  \n",
      " 13  injSeverity  11140 non-null  float64\n",
      " 14  caseid       11217 non-null  object \n",
      "dtypes: float64(3), int64(4), object(8)\n",
      "memory usage: 1.3+ MB\n"
     ]
    }
   ],
   "source": [
    "df.info()"
   ]
  },
  {
   "cell_type": "code",
   "execution_count": 9,
   "id": "478cebe0",
   "metadata": {},
   "outputs": [
    {
     "name": "stdout",
     "output_type": "stream",
     "text": [
      "Number of duplicate rows = 0\n"
     ]
    }
   ],
   "source": [
    "# Check for duplicate data\n",
    "dups = df.duplicated()\n",
    "print('Number of duplicate rows = %d' % (dups.sum()))"
   ]
  },
  {
   "cell_type": "code",
   "execution_count": 10,
   "id": "c0b5a3c1",
   "metadata": {},
   "outputs": [
    {
     "data": {
      "text/plain": [
       "dvcat           0\n",
       "weight          0\n",
       "Survived        0\n",
       "airbag          0\n",
       "seatbelt        0\n",
       "frontal         0\n",
       "sex             0\n",
       "ageOFocc        0\n",
       "yearacc         0\n",
       "yearVeh         0\n",
       "abcat           0\n",
       "occRole         0\n",
       "deploy          0\n",
       "injSeverity    77\n",
       "caseid          0\n",
       "dtype: int64"
      ]
     },
     "execution_count": 10,
     "metadata": {},
     "output_type": "execute_result"
    }
   ],
   "source": [
    "# Check for missing value in any column\n",
    "df.isnull().sum()"
   ]
  },
  {
   "cell_type": "code",
   "execution_count": 11,
   "id": "8fd6eef2",
   "metadata": {},
   "outputs": [
    {
     "name": "stdout",
     "output_type": "stream",
     "text": [
      "DVCAT   5\n",
      "1-9km/h     282\n",
      "55+         809\n",
      "40-54      1344\n",
      "25-39      3368\n",
      "10-24      5414\n",
      "Name: dvcat, dtype: int64\n",
      "SURVIVED   2\n",
      "Not_Survived     1180\n",
      "survived        10037\n",
      "Name: Survived, dtype: int64\n",
      "AIRBAG   2\n",
      "none      4153\n",
      "airbag    7064\n",
      "Name: airbag, dtype: int64\n",
      "SEATBELT   2\n",
      "none      3368\n",
      "belted    7849\n",
      "Name: seatbelt, dtype: int64\n",
      "SEX   2\n",
      "f    5169\n",
      "m    6048\n",
      "Name: sex, dtype: int64\n",
      "ABCAT   3\n",
      "nodeploy    2699\n",
      "unavail     4153\n",
      "deploy      4365\n",
      "Name: abcat, dtype: int64\n",
      "OCCROLE   2\n",
      "pass      2431\n",
      "driver    8786\n",
      "Name: occRole, dtype: int64\n",
      "CASEID   6488\n",
      "76:31:2     1\n",
      "73:118:2    1\n",
      "4:67:1      1\n",
      "47:52:2     1\n",
      "75:117:1    1\n",
      "           ..\n",
      "49:156:1    6\n",
      "74:74:2     6\n",
      "73:110:1    6\n",
      "75:84:2     6\n",
      "73:100:2    7\n",
      "Name: caseid, Length: 6488, dtype: int64\n"
     ]
    }
   ],
   "source": [
    "for feature in df.columns:\n",
    " if df[feature].dtype=='object':\n",
    "    print(feature.upper() ,\" \",df[feature].nunique())\n",
    "    print(df[feature].value_counts().sort_values())"
   ]
  },
  {
   "cell_type": "code",
   "execution_count": 12,
   "id": "293bbada",
   "metadata": {},
   "outputs": [
    {
     "data": {
      "text/plain": [
       "survived        10037\n",
       "Not_Survived     1180\n",
       "Name: Survived, dtype: int64"
      ]
     },
     "execution_count": 12,
     "metadata": {},
     "output_type": "execute_result"
    }
   ],
   "source": [
    "df.Survived.value_counts()\n"
   ]
  },
  {
   "cell_type": "code",
   "execution_count": 13,
   "id": "4c4d75f2",
   "metadata": {},
   "outputs": [
    {
     "data": {
      "text/plain": [
       "belted    7849\n",
       "none      3368\n",
       "Name: seatbelt, dtype: int64"
      ]
     },
     "execution_count": 13,
     "metadata": {},
     "output_type": "execute_result"
    }
   ],
   "source": [
    "df.seatbelt.value_counts()\n"
   ]
  },
  {
   "cell_type": "code",
   "execution_count": 14,
   "id": "88fa7331",
   "metadata": {},
   "outputs": [
    {
     "data": {
      "text/plain": [
       "m    6048\n",
       "f    5169\n",
       "Name: sex, dtype: int64"
      ]
     },
     "execution_count": 14,
     "metadata": {},
     "output_type": "execute_result"
    }
   ],
   "source": [
    "df.sex.value_counts()\n"
   ]
  },
  {
   "cell_type": "code",
   "execution_count": 15,
   "id": "1275a69b",
   "metadata": {},
   "outputs": [
    {
     "data": {
      "text/plain": [
       "<AxesSubplot:xlabel='Survived', ylabel='count'>"
      ]
     },
     "execution_count": 15,
     "metadata": {},
     "output_type": "execute_result"
    },
    {
     "data": {
      "image/png": "[encoded data removed]",
      "text/plain": [
       "<Figure size 432x288 with 1 Axes>"
      ]
     },
     "metadata": {
      "needs_background": "light"
     },
     "output_type": "display_data"
    }
   ],
   "source": [
    "sns.countplot(df[\"Survived\"],hue=df[\"sex\"]) "
   ]
  },
  {
   "cell_type": "code",
   "execution_count": 16,
   "id": "8a1de0b9",
   "metadata": {},
   "outputs": [
    {
     "data": {
      "text/html": [
       "<div>\n",
       "<style scoped>\n",
       "    .dataframe tbody tr th:only-of-type {\n",
       "        vertical-align: middle;\n",
       "    }\n",
       "\n",
       "    .dataframe tbody tr th {\n",
       "        vertical-align: top;\n",
       "    }\n",
       "\n",
       "    .dataframe thead th {\n",
       "        text-align: right;\n",
       "    }\n",
       "</style>\n",
       "<table border=\"1\" class=\"dataframe\">\n",
       "  <thead>\n",
       "    <tr style=\"text-align: right;\">\n",
       "      <th>Survived</th>\n",
       "      <th>Not_Survived</th>\n",
       "      <th>survived</th>\n",
       "    </tr>\n",
       "    <tr>\n",
       "      <th>sex</th>\n",
       "      <th></th>\n",
       "      <th></th>\n",
       "    </tr>\n",
       "  </thead>\n",
       "  <tbody>\n",
       "    <tr>\n",
       "      <th>f</th>\n",
       "      <td>464</td>\n",
       "      <td>4705</td>\n",
       "    </tr>\n",
       "    <tr>\n",
       "      <th>m</th>\n",
       "      <td>716</td>\n",
       "      <td>5332</td>\n",
       "    </tr>\n",
       "  </tbody>\n",
       "</table>\n",
       "</div>"
      ],
      "text/plain": [
       "Survived  Not_Survived  survived\n",
       "sex                             \n",
       "f                  464      4705\n",
       "m                  716      5332"
      ]
     },
     "execution_count": 16,
     "metadata": {},
     "output_type": "execute_result"
    }
   ],
   "source": [
    "pd.crosstab(df['sex'],df['Survived'] )"
   ]
  },
  {
   "cell_type": "code",
   "execution_count": 17,
   "id": "a7c10c09",
   "metadata": {},
   "outputs": [
    {
     "data": {
      "text/plain": [
       "<AxesSubplot:xlabel='Survived', ylabel='count'>"
      ]
     },
     "execution_count": 17,
     "metadata": {},
     "output_type": "execute_result"
    },
    {
     "data": {
      "image/png": "[encoded data removed]",
      "text/plain": [
       "<Figure size 432x288 with 1 Axes>"
      ]
     },
     "metadata": {
      "needs_background": "light"
     },
     "output_type": "display_data"
    }
   ],
   "source": [
    "sns.countplot(df[\"Survived\"],hue=df[\"abcat\"])\n"
   ]
  },
  {
   "cell_type": "code",
   "execution_count": 18,
   "id": "e5575f79",
   "metadata": {},
   "outputs": [
    {
     "data": {
      "text/html": [
       "<div>\n",
       "<style scoped>\n",
       "    .dataframe tbody tr th:only-of-type {\n",
       "        vertical-align: middle;\n",
       "    }\n",
       "\n",
       "    .dataframe tbody tr th {\n",
       "        vertical-align: top;\n",
       "    }\n",
       "\n",
       "    .dataframe thead th {\n",
       "        text-align: right;\n",
       "    }\n",
       "</style>\n",
       "<table border=\"1\" class=\"dataframe\">\n",
       "  <thead>\n",
       "    <tr style=\"text-align: right;\">\n",
       "      <th>Survived</th>\n",
       "      <th>Not_Survived</th>\n",
       "      <th>survived</th>\n",
       "    </tr>\n",
       "    <tr>\n",
       "      <th>abcat</th>\n",
       "      <th></th>\n",
       "      <th></th>\n",
       "    </tr>\n",
       "  </thead>\n",
       "  <tbody>\n",
       "    <tr>\n",
       "      <th>deploy</th>\n",
       "      <td>368</td>\n",
       "      <td>3997</td>\n",
       "    </tr>\n",
       "    <tr>\n",
       "      <th>nodeploy</th>\n",
       "      <td>143</td>\n",
       "      <td>2556</td>\n",
       "    </tr>\n",
       "    <tr>\n",
       "      <th>unavail</th>\n",
       "      <td>669</td>\n",
       "      <td>3484</td>\n",
       "    </tr>\n",
       "  </tbody>\n",
       "</table>\n",
       "</div>"
      ],
      "text/plain": [
       "Survived  Not_Survived  survived\n",
       "abcat                           \n",
       "deploy             368      3997\n",
       "nodeploy           143      2556\n",
       "unavail            669      3484"
      ]
     },
     "execution_count": 18,
     "metadata": {},
     "output_type": "execute_result"
    }
   ],
   "source": [
    "pd.crosstab(df['abcat'],df['Survived'] )"
   ]
  },
  {
   "cell_type": "code",
   "execution_count": 19,
   "id": "520c6703",
   "metadata": {},
   "outputs": [
    {
     "data": {
      "text/plain": [
       "<AxesSubplot:xlabel='Survived', ylabel='count'>"
      ]
     },
     "execution_count": 19,
     "metadata": {},
     "output_type": "execute_result"
    },
    {
     "data": {
      "image/png": "[encoded data removed]",
      "text/plain": [
       "<Figure size 432x288 with 1 Axes>"
      ]
     },
     "metadata": {
      "needs_background": "light"
     },
     "output_type": "display_data"
    }
   ],
   "source": [
    "sns.countplot(df[\"Survived\"],hue=df[\"seatbelt\"])"
   ]
  },
  {
   "cell_type": "code",
   "execution_count": 20,
   "id": "3894c7b6",
   "metadata": {},
   "outputs": [
    {
     "data": {
      "text/plain": [
       "<AxesSubplot:xlabel='Survived', ylabel='count'>"
      ]
     },
     "execution_count": 20,
     "metadata": {},
     "output_type": "execute_result"
    },
    {
     "data": {
      "image/png": "[encoded data removed]",
      "text/plain": [
       "<Figure size 432x288 with 1 Axes>"
      ]
     },
     "metadata": {
      "needs_background": "light"
     },
     "output_type": "display_data"
    }
   ],
   "source": [
    "sns.countplot(df[\"Survived\"],hue=df[\"occRole\"])"
   ]
  },
  {
   "cell_type": "code",
   "execution_count": 21,
   "id": "30ae0724",
   "metadata": {},
   "outputs": [
    {
     "data": {
      "text/html": [
       "<div>\n",
       "<style scoped>\n",
       "    .dataframe tbody tr th:only-of-type {\n",
       "        vertical-align: middle;\n",
       "    }\n",
       "\n",
       "    .dataframe tbody tr th {\n",
       "        vertical-align: top;\n",
       "    }\n",
       "\n",
       "    .dataframe thead th {\n",
       "        text-align: right;\n",
       "    }\n",
       "</style>\n",
       "<table border=\"1\" class=\"dataframe\">\n",
       "  <thead>\n",
       "    <tr style=\"text-align: right;\">\n",
       "      <th>Survived</th>\n",
       "      <th>Not_Survived</th>\n",
       "      <th>survived</th>\n",
       "    </tr>\n",
       "    <tr>\n",
       "      <th>occRole</th>\n",
       "      <th></th>\n",
       "      <th></th>\n",
       "    </tr>\n",
       "  </thead>\n",
       "  <tbody>\n",
       "    <tr>\n",
       "      <th>driver</th>\n",
       "      <td>891</td>\n",
       "      <td>7895</td>\n",
       "    </tr>\n",
       "    <tr>\n",
       "      <th>pass</th>\n",
       "      <td>289</td>\n",
       "      <td>2142</td>\n",
       "    </tr>\n",
       "  </tbody>\n",
       "</table>\n",
       "</div>"
      ],
      "text/plain": [
       "Survived  Not_Survived  survived\n",
       "occRole                         \n",
       "driver             891      7895\n",
       "pass               289      2142"
      ]
     },
     "execution_count": 21,
     "metadata": {},
     "output_type": "execute_result"
    }
   ],
   "source": [
    "pd.crosstab(df['occRole'],df['Survived'] )"
   ]
  },
  {
   "cell_type": "code",
   "execution_count": 22,
   "id": "57f899c8",
   "metadata": {},
   "outputs": [
    {
     "data": {
      "text/html": [
       "<div>\n",
       "<style scoped>\n",
       "    .dataframe tbody tr th:only-of-type {\n",
       "        vertical-align: middle;\n",
       "    }\n",
       "\n",
       "    .dataframe tbody tr th {\n",
       "        vertical-align: top;\n",
       "    }\n",
       "\n",
       "    .dataframe thead th {\n",
       "        text-align: right;\n",
       "    }\n",
       "</style>\n",
       "<table border=\"1\" class=\"dataframe\">\n",
       "  <thead>\n",
       "    <tr style=\"text-align: right;\">\n",
       "      <th>Survived</th>\n",
       "      <th>Not_Survived</th>\n",
       "      <th>survived</th>\n",
       "    </tr>\n",
       "    <tr>\n",
       "      <th>yearVeh</th>\n",
       "      <th></th>\n",
       "      <th></th>\n",
       "    </tr>\n",
       "  </thead>\n",
       "  <tbody>\n",
       "    <tr>\n",
       "      <th>1953.0</th>\n",
       "      <td>0</td>\n",
       "      <td>1</td>\n",
       "    </tr>\n",
       "    <tr>\n",
       "      <th>1956.0</th>\n",
       "      <td>0</td>\n",
       "      <td>2</td>\n",
       "    </tr>\n",
       "    <tr>\n",
       "      <th>1961.0</th>\n",
       "      <td>0</td>\n",
       "      <td>1</td>\n",
       "    </tr>\n",
       "    <tr>\n",
       "      <th>1963.0</th>\n",
       "      <td>1</td>\n",
       "      <td>1</td>\n",
       "    </tr>\n",
       "    <tr>\n",
       "      <th>1965.0</th>\n",
       "      <td>0</td>\n",
       "      <td>3</td>\n",
       "    </tr>\n",
       "    <tr>\n",
       "      <th>1966.0</th>\n",
       "      <td>3</td>\n",
       "      <td>2</td>\n",
       "    </tr>\n",
       "    <tr>\n",
       "      <th>1967.0</th>\n",
       "      <td>1</td>\n",
       "      <td>0</td>\n",
       "    </tr>\n",
       "    <tr>\n",
       "      <th>1968.0</th>\n",
       "      <td>1</td>\n",
       "      <td>3</td>\n",
       "    </tr>\n",
       "    <tr>\n",
       "      <th>1969.0</th>\n",
       "      <td>4</td>\n",
       "      <td>7</td>\n",
       "    </tr>\n",
       "    <tr>\n",
       "      <th>1970.0</th>\n",
       "      <td>0</td>\n",
       "      <td>7</td>\n",
       "    </tr>\n",
       "    <tr>\n",
       "      <th>1971.0</th>\n",
       "      <td>1</td>\n",
       "      <td>7</td>\n",
       "    </tr>\n",
       "    <tr>\n",
       "      <th>1972.0</th>\n",
       "      <td>1</td>\n",
       "      <td>4</td>\n",
       "    </tr>\n",
       "    <tr>\n",
       "      <th>1973.0</th>\n",
       "      <td>1</td>\n",
       "      <td>4</td>\n",
       "    </tr>\n",
       "    <tr>\n",
       "      <th>1974.0</th>\n",
       "      <td>3</td>\n",
       "      <td>5</td>\n",
       "    </tr>\n",
       "    <tr>\n",
       "      <th>1975.0</th>\n",
       "      <td>2</td>\n",
       "      <td>6</td>\n",
       "    </tr>\n",
       "    <tr>\n",
       "      <th>1976.0</th>\n",
       "      <td>4</td>\n",
       "      <td>12</td>\n",
       "    </tr>\n",
       "    <tr>\n",
       "      <th>1977.0</th>\n",
       "      <td>2</td>\n",
       "      <td>9</td>\n",
       "    </tr>\n",
       "    <tr>\n",
       "      <th>1978.0</th>\n",
       "      <td>10</td>\n",
       "      <td>39</td>\n",
       "    </tr>\n",
       "    <tr>\n",
       "      <th>1979.0</th>\n",
       "      <td>6</td>\n",
       "      <td>22</td>\n",
       "    </tr>\n",
       "    <tr>\n",
       "      <th>1980.0</th>\n",
       "      <td>5</td>\n",
       "      <td>24</td>\n",
       "    </tr>\n",
       "    <tr>\n",
       "      <th>1981.0</th>\n",
       "      <td>17</td>\n",
       "      <td>38</td>\n",
       "    </tr>\n",
       "    <tr>\n",
       "      <th>1982.0</th>\n",
       "      <td>15</td>\n",
       "      <td>52</td>\n",
       "    </tr>\n",
       "    <tr>\n",
       "      <th>1983.0</th>\n",
       "      <td>13</td>\n",
       "      <td>57</td>\n",
       "    </tr>\n",
       "    <tr>\n",
       "      <th>1984.0</th>\n",
       "      <td>30</td>\n",
       "      <td>139</td>\n",
       "    </tr>\n",
       "    <tr>\n",
       "      <th>1985.0</th>\n",
       "      <td>41</td>\n",
       "      <td>176</td>\n",
       "    </tr>\n",
       "    <tr>\n",
       "      <th>1986.0</th>\n",
       "      <td>53</td>\n",
       "      <td>227</td>\n",
       "    </tr>\n",
       "    <tr>\n",
       "      <th>1987.0</th>\n",
       "      <td>59</td>\n",
       "      <td>282</td>\n",
       "    </tr>\n",
       "    <tr>\n",
       "      <th>1988.0</th>\n",
       "      <td>70</td>\n",
       "      <td>324</td>\n",
       "    </tr>\n",
       "    <tr>\n",
       "      <th>1989.0</th>\n",
       "      <td>72</td>\n",
       "      <td>431</td>\n",
       "    </tr>\n",
       "    <tr>\n",
       "      <th>1990.0</th>\n",
       "      <td>63</td>\n",
       "      <td>385</td>\n",
       "    </tr>\n",
       "    <tr>\n",
       "      <th>1991.0</th>\n",
       "      <td>81</td>\n",
       "      <td>504</td>\n",
       "    </tr>\n",
       "    <tr>\n",
       "      <th>1992.0</th>\n",
       "      <td>69</td>\n",
       "      <td>489</td>\n",
       "    </tr>\n",
       "    <tr>\n",
       "      <th>1993.0</th>\n",
       "      <td>82</td>\n",
       "      <td>559</td>\n",
       "    </tr>\n",
       "    <tr>\n",
       "      <th>1994.0</th>\n",
       "      <td>76</td>\n",
       "      <td>641</td>\n",
       "    </tr>\n",
       "    <tr>\n",
       "      <th>1995.0</th>\n",
       "      <td>95</td>\n",
       "      <td>652</td>\n",
       "    </tr>\n",
       "    <tr>\n",
       "      <th>1996.0</th>\n",
       "      <td>59</td>\n",
       "      <td>545</td>\n",
       "    </tr>\n",
       "    <tr>\n",
       "      <th>1997.0</th>\n",
       "      <td>62</td>\n",
       "      <td>606</td>\n",
       "    </tr>\n",
       "    <tr>\n",
       "      <th>1998.0</th>\n",
       "      <td>46</td>\n",
       "      <td>745</td>\n",
       "    </tr>\n",
       "    <tr>\n",
       "      <th>1999.0</th>\n",
       "      <td>35</td>\n",
       "      <td>1011</td>\n",
       "    </tr>\n",
       "    <tr>\n",
       "      <th>2000.0</th>\n",
       "      <td>57</td>\n",
       "      <td>962</td>\n",
       "    </tr>\n",
       "    <tr>\n",
       "      <th>2001.0</th>\n",
       "      <td>23</td>\n",
       "      <td>672</td>\n",
       "    </tr>\n",
       "    <tr>\n",
       "      <th>2002.0</th>\n",
       "      <td>16</td>\n",
       "      <td>351</td>\n",
       "    </tr>\n",
       "    <tr>\n",
       "      <th>2003.0</th>\n",
       "      <td>1</td>\n",
       "      <td>30</td>\n",
       "    </tr>\n",
       "  </tbody>\n",
       "</table>\n",
       "</div>"
      ],
      "text/plain": [
       "Survived  Not_Survived  survived\n",
       "yearVeh                         \n",
       "1953.0               0         1\n",
       "1956.0               0         2\n",
       "1961.0               0         1\n",
       "1963.0               1         1\n",
       "1965.0               0         3\n",
       "1966.0               3         2\n",
       "1967.0               1         0\n",
       "1968.0               1         3\n",
       "1969.0               4         7\n",
       "1970.0               0         7\n",
       "1971.0               1         7\n",
       "1972.0               1         4\n",
       "1973.0               1         4\n",
       "1974.0               3         5\n",
       "1975.0               2         6\n",
       "1976.0               4        12\n",
       "1977.0               2         9\n",
       "1978.0              10        39\n",
       "1979.0               6        22\n",
       "1980.0               5        24\n",
       "1981.0              17        38\n",
       "1982.0              15        52\n",
       "1983.0              13        57\n",
       "1984.0              30       139\n",
       "1985.0              41       176\n",
       "1986.0              53       227\n",
       "1987.0              59       282\n",
       "1988.0              70       324\n",
       "1989.0              72       431\n",
       "1990.0              63       385\n",
       "1991.0              81       504\n",
       "1992.0              69       489\n",
       "1993.0              82       559\n",
       "1994.0              76       641\n",
       "1995.0              95       652\n",
       "1996.0              59       545\n",
       "1997.0              62       606\n",
       "1998.0              46       745\n",
       "1999.0              35      1011\n",
       "2000.0              57       962\n",
       "2001.0              23       672\n",
       "2002.0              16       351\n",
       "2003.0               1        30"
      ]
     },
     "execution_count": 22,
     "metadata": {},
     "output_type": "execute_result"
    }
   ],
   "source": [
    "pd.crosstab(df['yearVeh'],df['Survived'] )"
   ]
  },
  {
   "cell_type": "code",
   "execution_count": 23,
   "id": "b0084a92",
   "metadata": {},
   "outputs": [],
   "source": [
    "def univariateAnalysis_numeric(column,nbins): \n",
    " print(\"Description of \" + column) \n",
    " print(\"------------------------------------------------------------------------\")\n",
    " print(df[column].describe(),end=' ') \n",
    " \n",
    " plt.figure()\n",
    " print(\"Distribution of \" + column) \n",
    " print(\"------------------------------------------------------------------------\")\n",
    " sns.distplot(df[column], kde=True, color='b'); \n",
    " plt.show() \n",
    " \n",
    " plt.figure() \n",
    " print(\"BoxPlot of \" + column) \n",
    " print(\"------------------------------------------------------------------------\") \n",
    " ax= sns.boxplot(x=df[column],color='y') \n",
    " plt.show()\n"
   ]
  },
  {
   "cell_type": "code",
   "execution_count": 24,
   "id": "5c583728",
   "metadata": {},
   "outputs": [
    {
     "name": "stdout",
     "output_type": "stream",
     "text": [
      "Length of Numerical columns is : 4\n",
      "Length of Categorical columns is : 8\n"
     ]
    }
   ],
   "source": [
    "df_num= df.select_dtypes(include= ['int64'])\n",
    "df_cat=df.select_dtypes([\"object\"])\n",
    "Categorical_column_list=list(df_cat.columns.values)\n",
    "Numerical_column_list= list(df_num.columns.values)\n",
    "Numerical_length=len(Numerical_column_list)\n",
    "Categorical_length=len(Categorical_column_list)\n",
    "print(\"Length of Numerical columns is :\",Numerical_length)\n",
    "print(\"Length of Categorical columns is :\",Categorical_length)"
   ]
  },
  {
   "cell_type": "code",
   "execution_count": 25,
   "id": "b3318371",
   "metadata": {},
   "outputs": [
    {
     "data": {
      "text/html": [
       "<div>\n",
       "<style scoped>\n",
       "    .dataframe tbody tr th:only-of-type {\n",
       "        vertical-align: middle;\n",
       "    }\n",
       "\n",
       "    .dataframe tbody tr th {\n",
       "        vertical-align: top;\n",
       "    }\n",
       "\n",
       "    .dataframe thead th {\n",
       "        text-align: right;\n",
       "    }\n",
       "</style>\n",
       "<table border=\"1\" class=\"dataframe\">\n",
       "  <thead>\n",
       "    <tr style=\"text-align: right;\">\n",
       "      <th></th>\n",
       "      <th>dvcat</th>\n",
       "      <th>Survived</th>\n",
       "      <th>airbag</th>\n",
       "      <th>seatbelt</th>\n",
       "      <th>sex</th>\n",
       "      <th>abcat</th>\n",
       "      <th>occRole</th>\n",
       "      <th>caseid</th>\n",
       "    </tr>\n",
       "  </thead>\n",
       "  <tbody>\n",
       "    <tr>\n",
       "      <th>0</th>\n",
       "      <td>55+</td>\n",
       "      <td>Not_Survived</td>\n",
       "      <td>none</td>\n",
       "      <td>none</td>\n",
       "      <td>m</td>\n",
       "      <td>unavail</td>\n",
       "      <td>driver</td>\n",
       "      <td>2:13:2</td>\n",
       "    </tr>\n",
       "    <tr>\n",
       "      <th>1</th>\n",
       "      <td>25-39</td>\n",
       "      <td>Not_Survived</td>\n",
       "      <td>airbag</td>\n",
       "      <td>belted</td>\n",
       "      <td>f</td>\n",
       "      <td>nodeploy</td>\n",
       "      <td>driver</td>\n",
       "      <td>2:17:1</td>\n",
       "    </tr>\n",
       "    <tr>\n",
       "      <th>2</th>\n",
       "      <td>55+</td>\n",
       "      <td>Not_Survived</td>\n",
       "      <td>none</td>\n",
       "      <td>belted</td>\n",
       "      <td>m</td>\n",
       "      <td>unavail</td>\n",
       "      <td>driver</td>\n",
       "      <td>2:79:1</td>\n",
       "    </tr>\n",
       "    <tr>\n",
       "      <th>3</th>\n",
       "      <td>55+</td>\n",
       "      <td>Not_Survived</td>\n",
       "      <td>none</td>\n",
       "      <td>belted</td>\n",
       "      <td>f</td>\n",
       "      <td>unavail</td>\n",
       "      <td>pass</td>\n",
       "      <td>2:79:1</td>\n",
       "    </tr>\n",
       "    <tr>\n",
       "      <th>4</th>\n",
       "      <td>55+</td>\n",
       "      <td>Not_Survived</td>\n",
       "      <td>none</td>\n",
       "      <td>none</td>\n",
       "      <td>m</td>\n",
       "      <td>unavail</td>\n",
       "      <td>driver</td>\n",
       "      <td>4:58:1</td>\n",
       "    </tr>\n",
       "  </tbody>\n",
       "</table>\n",
       "</div>"
      ],
      "text/plain": [
       "   dvcat      Survived  airbag seatbelt sex     abcat occRole  caseid\n",
       "0    55+  Not_Survived    none     none   m   unavail  driver  2:13:2\n",
       "1  25-39  Not_Survived  airbag   belted   f  nodeploy  driver  2:17:1\n",
       "2    55+  Not_Survived    none   belted   m   unavail  driver  2:79:1\n",
       "3    55+  Not_Survived    none   belted   f   unavail    pass  2:79:1\n",
       "4    55+  Not_Survived    none     none   m   unavail  driver  4:58:1"
      ]
     },
     "execution_count": 25,
     "metadata": {},
     "output_type": "execute_result"
    }
   ],
   "source": [
    "df_cat.head()\n"
   ]
  },
  {
   "cell_type": "code",
   "execution_count": 26,
   "id": "2481e4cc",
   "metadata": {},
   "outputs": [
    {
     "data": {
      "text/html": [
       "<div>\n",
       "<style scoped>\n",
       "    .dataframe tbody tr th:only-of-type {\n",
       "        vertical-align: middle;\n",
       "    }\n",
       "\n",
       "    .dataframe tbody tr th {\n",
       "        vertical-align: top;\n",
       "    }\n",
       "\n",
       "    .dataframe thead th {\n",
       "        text-align: right;\n",
       "    }\n",
       "</style>\n",
       "<table border=\"1\" class=\"dataframe\">\n",
       "  <thead>\n",
       "    <tr style=\"text-align: right;\">\n",
       "      <th></th>\n",
       "      <th>frontal</th>\n",
       "      <th>ageOFocc</th>\n",
       "      <th>yearacc</th>\n",
       "      <th>deploy</th>\n",
       "    </tr>\n",
       "  </thead>\n",
       "  <tbody>\n",
       "    <tr>\n",
       "      <th>0</th>\n",
       "      <td>1</td>\n",
       "      <td>32</td>\n",
       "      <td>1997</td>\n",
       "      <td>0</td>\n",
       "    </tr>\n",
       "    <tr>\n",
       "      <th>1</th>\n",
       "      <td>0</td>\n",
       "      <td>54</td>\n",
       "      <td>1997</td>\n",
       "      <td>0</td>\n",
       "    </tr>\n",
       "    <tr>\n",
       "      <th>2</th>\n",
       "      <td>1</td>\n",
       "      <td>67</td>\n",
       "      <td>1997</td>\n",
       "      <td>0</td>\n",
       "    </tr>\n",
       "    <tr>\n",
       "      <th>3</th>\n",
       "      <td>1</td>\n",
       "      <td>64</td>\n",
       "      <td>1997</td>\n",
       "      <td>0</td>\n",
       "    </tr>\n",
       "    <tr>\n",
       "      <th>4</th>\n",
       "      <td>1</td>\n",
       "      <td>23</td>\n",
       "      <td>1997</td>\n",
       "      <td>0</td>\n",
       "    </tr>\n",
       "  </tbody>\n",
       "</table>\n",
       "</div>"
      ],
      "text/plain": [
       "   frontal  ageOFocc  yearacc  deploy\n",
       "0        1        32     1997       0\n",
       "1        0        54     1997       0\n",
       "2        1        67     1997       0\n",
       "3        1        64     1997       0\n",
       "4        1        23     1997       0"
      ]
     },
     "execution_count": 26,
     "metadata": {},
     "output_type": "execute_result"
    }
   ],
   "source": [
    "df_num.head()"
   ]
  },
  {
   "cell_type": "code",
   "execution_count": 27,
   "id": "56b6aab4",
   "metadata": {},
   "outputs": [
    {
     "name": "stdout",
     "output_type": "stream",
     "text": [
      "Description of frontal\n",
      "------------------------------------------------------------------------\n",
      "count    11217.000000\n",
      "mean         0.644022\n",
      "std          0.478830\n",
      "min          0.000000\n",
      "25%          0.000000\n",
      "50%          1.000000\n",
      "75%          1.000000\n",
      "max          1.000000\n",
      "Name: frontal, dtype: float64 Distribution of frontal\n",
      "------------------------------------------------------------------------\n"
     ]
    },
    {
     "data": {
      "image/png": "[encoded data removed]",
      "text/plain": [
       "<Figure size 432x288 with 1 Axes>"
      ]
     },
     "metadata": {
      "needs_background": "light"
     },
     "output_type": "display_data"
    },
    {
     "name": "stdout",
     "output_type": "stream",
     "text": [
      "BoxPlot of frontal\n",
      "------------------------------------------------------------------------\n"
     ]
    },
    {
     "data": {
      "image/png": "[encoded data removed]",
      "text/plain": [
       "<Figure size 432x288 with 1 Axes>"
      ]
     },
     "metadata": {
      "needs_background": "light"
     },
     "output_type": "display_data"
    },
    {
     "name": "stdout",
     "output_type": "stream",
     "text": [
      "Description of ageOFocc\n",
      "------------------------------------------------------------------------\n",
      "count    11217.000000\n",
      "mean        37.427654\n",
      "std         18.192429\n",
      "min         16.000000\n",
      "25%         22.000000\n",
      "50%         33.000000\n",
      "75%         48.000000\n",
      "max         97.000000\n",
      "Name: ageOFocc, dtype: float64 Distribution of ageOFocc\n",
      "------------------------------------------------------------------------\n"
     ]
    },
    {
     "data": {
      "image/png": "[encoded data removed]",
      "text/plain": [
       "<Figure size 432x288 with 1 Axes>"
      ]
     },
     "metadata": {
      "needs_background": "light"
     },
     "output_type": "display_data"
    },
    {
     "name": "stdout",
     "output_type": "stream",
     "text": [
      "BoxPlot of ageOFocc\n",
      "------------------------------------------------------------------------\n"
     ]
    },
    {
     "data": {
      "image/png": "[encoded data removed]",
      "text/plain": [
       "<Figure size 432x288 with 1 Axes>"
      ]
     },
     "metadata": {
      "needs_background": "light"
     },
     "output_type": "display_data"
    },
    {
     "name": "stdout",
     "output_type": "stream",
     "text": [
      "Description of yearacc\n",
      "------------------------------------------------------------------------\n",
      "count    11217.000000\n",
      "mean      2001.103236\n",
      "std          1.056805\n",
      "min       1997.000000\n",
      "25%       2001.000000\n",
      "50%       2001.000000\n",
      "75%       2002.000000\n",
      "max       2002.000000\n",
      "Name: yearacc, dtype: float64 Distribution of yearacc\n",
      "------------------------------------------------------------------------\n"
     ]
    },
    {
     "data": {
      "image/png": "[encoded data removed]",
      "text/plain": [
       "<Figure size 432x288 with 1 Axes>"
      ]
     },
     "metadata": {
      "needs_background": "light"
     },
     "output_type": "display_data"
    },
    {
     "name": "stdout",
     "output_type": "stream",
     "text": [
      "BoxPlot of yearacc\n",
      "------------------------------------------------------------------------\n"
     ]
    },
    {
     "data": {
      "image/png": "[encoded data removed]",
      "text/plain": [
       "<Figure size 432x288 with 1 Axes>"
      ]
     },
     "metadata": {
      "needs_background": "light"
     },
     "output_type": "display_data"
    },
    {
     "name": "stdout",
     "output_type": "stream",
     "text": [
      "Description of deploy\n",
      "------------------------------------------------------------------------\n",
      "count    11217.000000\n",
      "mean         0.389141\n",
      "std          0.487577\n",
      "min          0.000000\n",
      "25%          0.000000\n",
      "50%          0.000000\n",
      "75%          1.000000\n",
      "max          1.000000\n",
      "Name: deploy, dtype: float64 Distribution of deploy\n",
      "------------------------------------------------------------------------\n"
     ]
    },
    {
     "data": {
      "image/png": "[encoded data removed]",
      "text/plain": [
       "<Figure size 432x288 with 1 Axes>"
      ]
     },
     "metadata": {
      "needs_background": "light"
     },
     "output_type": "display_data"
    },
    {
     "name": "stdout",
     "output_type": "stream",
     "text": [
      "BoxPlot of deploy\n",
      "------------------------------------------------------------------------\n"
     ]
    },
    {
     "data": {
      "image/png": "[encoded data removed]",
      "text/plain": [
       "<Figure size 432x288 with 1 Axes>"
      ]
     },
     "metadata": {
      "needs_background": "light"
     },
     "output_type": "display_data"
    }
   ],
   "source": [
    "for x in Numerical_column_list: \n",
    " univariateAnalysis_numeric(x,20)"
   ]
  },
  {
   "cell_type": "code",
   "execution_count": 28,
   "id": "e787b65d",
   "metadata": {},
   "outputs": [
    {
     "data": {
      "text/plain": [
       "Text(0.5, 0, 'Age of Occupant')"
      ]
     },
     "execution_count": 28,
     "metadata": {},
     "output_type": "execute_result"
    },
    {
     "data": {
      "image/png": "[encoded data removed]",
      "text/plain": [
       "<Figure size 432x288 with 1 Axes>"
      ]
     },
     "metadata": {
      "needs_background": "light"
     },
     "output_type": "display_data"
    }
   ],
   "source": [
    "ax= df['ageOFocc'].plot(kind='hist')\n",
    "ax.set_xlabel(\"Age of Occupant\", labelpad=20, size=12)"
   ]
  },
  {
   "cell_type": "code",
   "execution_count": 29,
   "id": "f4ff01f8",
   "metadata": {},
   "outputs": [
    {
     "data": {
      "text/plain": [
       "<seaborn.axisgrid.PairGrid at 0x2997d5b1310>"
      ]
     },
     "execution_count": 29,
     "metadata": {},
     "output_type": "execute_result"
    },
    {
     "data": {
      "image/png": "[encoded data removed]",
      "text/plain": [
       "<Figure size 1260x1260 with 56 Axes>"
      ]
     },
     "metadata": {
      "needs_background": "light"
     },
     "output_type": "display_data"
    }
   ],
   "source": [
    "sns.pairplot(df)"
   ]
  },
  {
   "cell_type": "code",
   "execution_count": 30,
   "id": "a119e75b",
   "metadata": {},
   "outputs": [
    {
     "data": {
      "text/plain": [
       "weight         11.115386\n",
       "frontal        -0.601667\n",
       "ageOFocc        0.911059\n",
       "yearacc        -1.671687\n",
       "yearVeh        -1.026743\n",
       "deploy          0.454813\n",
       "injSeverity     0.035177\n",
       "dtype: float64"
      ]
     },
     "execution_count": 30,
     "metadata": {},
     "output_type": "execute_result"
    }
   ],
   "source": [
    "df.skew()"
   ]
  },
  {
   "cell_type": "code",
   "execution_count": 31,
   "id": "d0e88785",
   "metadata": {},
   "outputs": [
    {
     "data": {
      "text/plain": [
       "<AxesSubplot:>"
      ]
     },
     "execution_count": 31,
     "metadata": {},
     "output_type": "execute_result"
    },
    {
     "data": {
      "image/png": "[encoded data removed]",
      "text/plain": [
       "<Figure size 576x432 with 2 Axes>"
      ]
     },
     "metadata": {
      "needs_background": "light"
     },
     "output_type": "display_data"
    }
   ],
   "source": [
    "df_cor = df.corr()\n",
    "plt.figure(figsize=(8,6))\n",
    "sns.heatmap(df_cor, annot=True, fmt = '.2f', cmap='coolwarm')"
   ]
  },
  {
   "cell_type": "code",
   "execution_count": 32,
   "id": "d6542361",
   "metadata": {
    "scrolled": false
   },
   "outputs": [
    {
     "data": {
      "text/plain": [
       "dvcat           0\n",
       "weight          0\n",
       "Survived        0\n",
       "airbag          0\n",
       "seatbelt        0\n",
       "frontal         0\n",
       "sex             0\n",
       "ageOFocc        0\n",
       "yearacc         0\n",
       "yearVeh         0\n",
       "abcat           0\n",
       "occRole         0\n",
       "deploy          0\n",
       "injSeverity    77\n",
       "caseid          0\n",
       "dtype: int64"
      ]
     },
     "execution_count": 32,
     "metadata": {},
     "output_type": "execute_result"
    }
   ],
   "source": [
    "#null value check\n",
    "df.isnull().sum()\n"
   ]
  },
  {
   "cell_type": "code",
   "execution_count": 33,
   "id": "85d868fa",
   "metadata": {
    "scrolled": true
   },
   "outputs": [
    {
     "data": {
      "text/plain": [
       "0      deploy         0.0\n",
       "1      frontal        0.0\n",
       "       deploy         0.0\n",
       "2      deploy         0.0\n",
       "3      deploy         0.0\n",
       "                     ... \n",
       "11212  deploy         0.0\n",
       "       injSeverity    0.0\n",
       "11213  deploy         0.0\n",
       "11215  injSeverity    0.0\n",
       "11216  injSeverity    0.0\n",
       "Length: 13598, dtype: object"
      ]
     },
     "execution_count": 33,
     "metadata": {},
     "output_type": "execute_result"
    }
   ],
   "source": [
    "df[df.isin([0])].stack(0)"
   ]
  },
  {
   "cell_type": "code",
   "execution_count": 34,
   "id": "cf9e7811",
   "metadata": {
    "scrolled": true
   },
   "outputs": [
    {
     "data": {
      "text/html": [
       "<div>\n",
       "<style scoped>\n",
       "    .dataframe tbody tr th:only-of-type {\n",
       "        vertical-align: middle;\n",
       "    }\n",
       "\n",
       "    .dataframe tbody tr th {\n",
       "        vertical-align: top;\n",
       "    }\n",
       "\n",
       "    .dataframe thead th {\n",
       "        text-align: right;\n",
       "    }\n",
       "</style>\n",
       "<table border=\"1\" class=\"dataframe\">\n",
       "  <thead>\n",
       "    <tr style=\"text-align: right;\">\n",
       "      <th></th>\n",
       "      <th>dvcat</th>\n",
       "      <th>weight</th>\n",
       "      <th>Survived</th>\n",
       "      <th>airbag</th>\n",
       "      <th>seatbelt</th>\n",
       "      <th>frontal</th>\n",
       "      <th>sex</th>\n",
       "      <th>ageOFocc</th>\n",
       "      <th>yearacc</th>\n",
       "      <th>yearVeh</th>\n",
       "      <th>abcat</th>\n",
       "      <th>occRole</th>\n",
       "      <th>deploy</th>\n",
       "      <th>injSeverity</th>\n",
       "      <th>caseid</th>\n",
       "    </tr>\n",
       "  </thead>\n",
       "  <tbody>\n",
       "    <tr>\n",
       "      <th>0</th>\n",
       "      <td>55+</td>\n",
       "      <td>27.078</td>\n",
       "      <td>Not_Survived</td>\n",
       "      <td>none</td>\n",
       "      <td>none</td>\n",
       "      <td>1</td>\n",
       "      <td>m</td>\n",
       "      <td>32</td>\n",
       "      <td>1997</td>\n",
       "      <td>1987.0</td>\n",
       "      <td>unavail</td>\n",
       "      <td>driver</td>\n",
       "      <td>0</td>\n",
       "      <td>4.0</td>\n",
       "      <td>2:13:2</td>\n",
       "    </tr>\n",
       "    <tr>\n",
       "      <th>1</th>\n",
       "      <td>25-39</td>\n",
       "      <td>89.627</td>\n",
       "      <td>Not_Survived</td>\n",
       "      <td>airbag</td>\n",
       "      <td>belted</td>\n",
       "      <td>0</td>\n",
       "      <td>f</td>\n",
       "      <td>54</td>\n",
       "      <td>1997</td>\n",
       "      <td>1994.0</td>\n",
       "      <td>nodeploy</td>\n",
       "      <td>driver</td>\n",
       "      <td>0</td>\n",
       "      <td>4.0</td>\n",
       "      <td>2:17:1</td>\n",
       "    </tr>\n",
       "    <tr>\n",
       "      <th>2</th>\n",
       "      <td>55+</td>\n",
       "      <td>27.078</td>\n",
       "      <td>Not_Survived</td>\n",
       "      <td>none</td>\n",
       "      <td>belted</td>\n",
       "      <td>1</td>\n",
       "      <td>m</td>\n",
       "      <td>67</td>\n",
       "      <td>1997</td>\n",
       "      <td>1992.0</td>\n",
       "      <td>unavail</td>\n",
       "      <td>driver</td>\n",
       "      <td>0</td>\n",
       "      <td>4.0</td>\n",
       "      <td>2:79:1</td>\n",
       "    </tr>\n",
       "    <tr>\n",
       "      <th>3</th>\n",
       "      <td>55+</td>\n",
       "      <td>27.078</td>\n",
       "      <td>Not_Survived</td>\n",
       "      <td>none</td>\n",
       "      <td>belted</td>\n",
       "      <td>1</td>\n",
       "      <td>f</td>\n",
       "      <td>64</td>\n",
       "      <td>1997</td>\n",
       "      <td>1992.0</td>\n",
       "      <td>unavail</td>\n",
       "      <td>pass</td>\n",
       "      <td>0</td>\n",
       "      <td>4.0</td>\n",
       "      <td>2:79:1</td>\n",
       "    </tr>\n",
       "    <tr>\n",
       "      <th>4</th>\n",
       "      <td>55+</td>\n",
       "      <td>13.374</td>\n",
       "      <td>Not_Survived</td>\n",
       "      <td>none</td>\n",
       "      <td>none</td>\n",
       "      <td>1</td>\n",
       "      <td>m</td>\n",
       "      <td>23</td>\n",
       "      <td>1997</td>\n",
       "      <td>1986.0</td>\n",
       "      <td>unavail</td>\n",
       "      <td>driver</td>\n",
       "      <td>0</td>\n",
       "      <td>4.0</td>\n",
       "      <td>4:58:1</td>\n",
       "    </tr>\n",
       "    <tr>\n",
       "      <th>...</th>\n",
       "      <td>...</td>\n",
       "      <td>...</td>\n",
       "      <td>...</td>\n",
       "      <td>...</td>\n",
       "      <td>...</td>\n",
       "      <td>...</td>\n",
       "      <td>...</td>\n",
       "      <td>...</td>\n",
       "      <td>...</td>\n",
       "      <td>...</td>\n",
       "      <td>...</td>\n",
       "      <td>...</td>\n",
       "      <td>...</td>\n",
       "      <td>...</td>\n",
       "      <td>...</td>\n",
       "    </tr>\n",
       "    <tr>\n",
       "      <th>11211</th>\n",
       "      <td>25-39</td>\n",
       "      <td>261.217</td>\n",
       "      <td>survived</td>\n",
       "      <td>airbag</td>\n",
       "      <td>belted</td>\n",
       "      <td>0</td>\n",
       "      <td>f</td>\n",
       "      <td>45</td>\n",
       "      <td>2002</td>\n",
       "      <td>1997.0</td>\n",
       "      <td>nodeploy</td>\n",
       "      <td>driver</td>\n",
       "      <td>0</td>\n",
       "      <td>2.0</td>\n",
       "      <td>82:106:2</td>\n",
       "    </tr>\n",
       "    <tr>\n",
       "      <th>11212</th>\n",
       "      <td>25-39</td>\n",
       "      <td>3179.688</td>\n",
       "      <td>survived</td>\n",
       "      <td>none</td>\n",
       "      <td>belted</td>\n",
       "      <td>1</td>\n",
       "      <td>m</td>\n",
       "      <td>17</td>\n",
       "      <td>2002</td>\n",
       "      <td>1985.0</td>\n",
       "      <td>unavail</td>\n",
       "      <td>driver</td>\n",
       "      <td>0</td>\n",
       "      <td>0.0</td>\n",
       "      <td>82:107:1</td>\n",
       "    </tr>\n",
       "    <tr>\n",
       "      <th>11213</th>\n",
       "      <td>10-24</td>\n",
       "      <td>71.228</td>\n",
       "      <td>survived</td>\n",
       "      <td>airbag</td>\n",
       "      <td>belted</td>\n",
       "      <td>1</td>\n",
       "      <td>m</td>\n",
       "      <td>54</td>\n",
       "      <td>2002</td>\n",
       "      <td>2002.0</td>\n",
       "      <td>nodeploy</td>\n",
       "      <td>driver</td>\n",
       "      <td>0</td>\n",
       "      <td>2.0</td>\n",
       "      <td>82:108:2</td>\n",
       "    </tr>\n",
       "    <tr>\n",
       "      <th>11215</th>\n",
       "      <td>25-39</td>\n",
       "      <td>10.474</td>\n",
       "      <td>survived</td>\n",
       "      <td>airbag</td>\n",
       "      <td>belted</td>\n",
       "      <td>1</td>\n",
       "      <td>f</td>\n",
       "      <td>18</td>\n",
       "      <td>2002</td>\n",
       "      <td>1999.0</td>\n",
       "      <td>deploy</td>\n",
       "      <td>driver</td>\n",
       "      <td>1</td>\n",
       "      <td>0.0</td>\n",
       "      <td>82:110:2</td>\n",
       "    </tr>\n",
       "    <tr>\n",
       "      <th>11216</th>\n",
       "      <td>25-39</td>\n",
       "      <td>10.474</td>\n",
       "      <td>survived</td>\n",
       "      <td>airbag</td>\n",
       "      <td>belted</td>\n",
       "      <td>1</td>\n",
       "      <td>m</td>\n",
       "      <td>17</td>\n",
       "      <td>2002</td>\n",
       "      <td>1999.0</td>\n",
       "      <td>deploy</td>\n",
       "      <td>pass</td>\n",
       "      <td>1</td>\n",
       "      <td>0.0</td>\n",
       "      <td>82:110:2</td>\n",
       "    </tr>\n",
       "  </tbody>\n",
       "</table>\n",
       "<p>8471 rows × 15 columns</p>\n",
       "</div>"
      ],
      "text/plain": [
       "       dvcat    weight      Survived  airbag seatbelt  frontal sex  ageOFocc  \\\n",
       "0        55+    27.078  Not_Survived    none     none        1   m        32   \n",
       "1      25-39    89.627  Not_Survived  airbag   belted        0   f        54   \n",
       "2        55+    27.078  Not_Survived    none   belted        1   m        67   \n",
       "3        55+    27.078  Not_Survived    none   belted        1   f        64   \n",
       "4        55+    13.374  Not_Survived    none     none        1   m        23   \n",
       "...      ...       ...           ...     ...      ...      ...  ..       ...   \n",
       "11211  25-39   261.217      survived  airbag   belted        0   f        45   \n",
       "11212  25-39  3179.688      survived    none   belted        1   m        17   \n",
       "11213  10-24    71.228      survived  airbag   belted        1   m        54   \n",
       "11215  25-39    10.474      survived  airbag   belted        1   f        18   \n",
       "11216  25-39    10.474      survived  airbag   belted        1   m        17   \n",
       "\n",
       "       yearacc  yearVeh     abcat occRole  deploy  injSeverity    caseid  \n",
       "0         1997   1987.0   unavail  driver       0          4.0    2:13:2  \n",
       "1         1997   1994.0  nodeploy  driver       0          4.0    2:17:1  \n",
       "2         1997   1992.0   unavail  driver       0          4.0    2:79:1  \n",
       "3         1997   1992.0   unavail    pass       0          4.0    2:79:1  \n",
       "4         1997   1986.0   unavail  driver       0          4.0    4:58:1  \n",
       "...        ...      ...       ...     ...     ...          ...       ...  \n",
       "11211     2002   1997.0  nodeploy  driver       0          2.0  82:106:2  \n",
       "11212     2002   1985.0   unavail  driver       0          0.0  82:107:1  \n",
       "11213     2002   2002.0  nodeploy  driver       0          2.0  82:108:2  \n",
       "11215     2002   1999.0    deploy  driver       1          0.0  82:110:2  \n",
       "11216     2002   1999.0    deploy    pass       1          0.0  82:110:2  \n",
       "\n",
       "[8471 rows x 15 columns]"
      ]
     },
     "execution_count": 34,
     "metadata": {},
     "output_type": "execute_result"
    }
   ],
   "source": [
    "df.loc[((df['deploy'] == 0) | (df['frontal'] == 0) | (df['injSeverity'] == 0))]\n"
   ]
  },
  {
   "cell_type": "code",
   "execution_count": 35,
   "id": "94d2479a",
   "metadata": {
    "scrolled": true
   },
   "outputs": [],
   "source": [
    "df.drop(df[((df['deploy'] == 0) | (df['frontal'] == 0)| (df['injSeverity'] == 0))].index,inplace=True)"
   ]
  },
  {
   "cell_type": "code",
   "execution_count": 36,
   "id": "6707626b",
   "metadata": {},
   "outputs": [
    {
     "data": {
      "text/plain": [
       "2570  weight    0.0\n",
       "2980  weight    0.0\n",
       "2981  weight    0.0\n",
       "2982  weight    0.0\n",
       "4017  weight    0.0\n",
       "4331  weight    0.0\n",
       "7692  weight    0.0\n",
       "dtype: object"
      ]
     },
     "execution_count": 36,
     "metadata": {},
     "output_type": "execute_result"
    }
   ],
   "source": [
    "df[df.isin([0])].stack(0)"
   ]
  },
  {
   "cell_type": "code",
   "execution_count": 37,
   "id": "7e5462a0",
   "metadata": {},
   "outputs": [
    {
     "data": {
      "text/plain": [
       "dvcat          0\n",
       "weight         0\n",
       "Survived       0\n",
       "airbag         0\n",
       "seatbelt       0\n",
       "frontal        0\n",
       "sex            0\n",
       "ageOFocc       0\n",
       "yearacc        0\n",
       "yearVeh        0\n",
       "abcat          0\n",
       "occRole        0\n",
       "deploy         0\n",
       "injSeverity    0\n",
       "caseid         0\n",
       "dtype: int64"
      ]
     },
     "execution_count": 37,
     "metadata": {},
     "output_type": "execute_result"
    }
   ],
   "source": [
    "for column in df.columns:\n",
    " if df[column].dtype != 'object':\n",
    "    median = df[column].median()\n",
    "    df[column] = df[column].fillna(median) \n",
    " \n",
    "df.isnull().sum()\n"
   ]
  },
  {
   "cell_type": "code",
   "execution_count": 38,
   "id": "82bf9720",
   "metadata": {
    "scrolled": false
   },
   "outputs": [
    {
     "data": {
      "text/plain": [
       "Index(['dvcat', 'Survived', 'airbag', 'seatbelt', 'sex', 'abcat', 'occRole',\n",
       "       'caseid'],\n",
       "      dtype='object')"
      ]
     },
     "execution_count": 38,
     "metadata": {},
     "output_type": "execute_result"
    }
   ],
   "source": [
    "df.dtypes[(df.dtypes=='object')].index\n"
   ]
  },
  {
   "cell_type": "code",
   "execution_count": 39,
   "id": "dc9daf3d",
   "metadata": {},
   "outputs": [],
   "source": [
    "import pandas as pd"
   ]
  },
  {
   "cell_type": "code",
   "execution_count": 40,
   "id": "0ccb0e0e",
   "metadata": {},
   "outputs": [],
   "source": [
    "def create_label_encoder_dict(df):\n",
    "    from sklearn.preprocessing import LabelEncoder\n",
    " \n",
    "    label_encoder_dict = {}\n",
    "    for column in df.columns:\n",
    "         # Only create encoder for categorical data types\n",
    "        if not np.issubdtype(df[column].dtype, np.number) and column != 'Age':\n",
    "            label_encoder_dict[column]= LabelEncoder().fit(df[column])\n",
    "    return label_encoder_dict"
   ]
  },
  {
   "cell_type": "code",
   "execution_count": 41,
   "id": "c401813d",
   "metadata": {},
   "outputs": [
    {
     "name": "stdout",
     "output_type": "stream",
     "text": [
      "Encoded Values for each Label\n",
      "================================\n",
      "================================\n",
      "Encoder(dvcat) = ['1-9km/h' '10-24' '25-39' '40-54' '55+']\n",
      "================================\n",
      "Encoder(Survived) = ['Not_Survived' 'survived']\n",
      "================================\n",
      "Encoder(airbag) = ['airbag']\n",
      "================================\n",
      "Encoder(seatbelt) = ['belted' 'none']\n",
      "================================\n",
      "Encoder(sex) = ['f' 'm']\n",
      "================================\n",
      "Encoder(abcat) = ['deploy']\n",
      "================================\n",
      "Encoder(occRole) = ['driver' 'pass']\n",
      "================================\n",
      "Encoder(caseid) = ['11:107:1' '11:108:1' '11:109:2' ... '9:98:1' '9:98:2' '9:9:1']\n",
      "   11:107:1  11:108:1  11:109:2  11:111:1  11:112:1  11:112:2  11:114:1  \\\n",
      "0         0         1         2         3         4         5         6   \n",
      "\n",
      "   11:116:1  11:116:2  11:117:1  ...  9:87:1  9:87:2  9:8:1  9:92:1  9:94:1  \\\n",
      "0         7         8         9  ...    2185    2186   2187    2188    2189   \n",
      "\n",
      "   9:97:1  9:97:2  9:98:1  9:98:2  9:9:1  \n",
      "0    2190    2191    2192    2193   2194  \n",
      "\n",
      "[1 rows x 2195 columns]\n"
     ]
    }
   ],
   "source": [
    "label_encoders = create_label_encoder_dict(df)\n",
    "print(\"Encoded Values for each Label\")\n",
    "print(\"=\"*32)\n",
    "for column in label_encoders:\n",
    "    print(\"=\"*32)\n",
    "    print('Encoder(%s) = %s' % (column,label_encoders[column].classes_))\n",
    "print(pd.DataFrame([range(0,len(label_encoders[column].classes_))],columns=label_encoders[column].classes_))\n"
   ]
  },
  {
   "cell_type": "code",
   "execution_count": 42,
   "id": "22c58f16",
   "metadata": {},
   "outputs": [
    {
     "name": "stdout",
     "output_type": "stream",
     "text": [
      "Transformed data set\n",
      "********************\n"
     ]
    },
    {
     "data": {
      "text/html": [
       "<div>\n",
       "<style scoped>\n",
       "    .dataframe tbody tr th:only-of-type {\n",
       "        vertical-align: middle;\n",
       "    }\n",
       "\n",
       "    .dataframe tbody tr th {\n",
       "        vertical-align: top;\n",
       "    }\n",
       "\n",
       "    .dataframe thead th {\n",
       "        text-align: right;\n",
       "    }\n",
       "</style>\n",
       "<table border=\"1\" class=\"dataframe\">\n",
       "  <thead>\n",
       "    <tr style=\"text-align: right;\">\n",
       "      <th></th>\n",
       "      <th>dvcat</th>\n",
       "      <th>weight</th>\n",
       "      <th>Survived</th>\n",
       "      <th>airbag</th>\n",
       "      <th>seatbelt</th>\n",
       "      <th>frontal</th>\n",
       "      <th>sex</th>\n",
       "      <th>ageOFocc</th>\n",
       "      <th>yearacc</th>\n",
       "      <th>yearVeh</th>\n",
       "      <th>abcat</th>\n",
       "      <th>occRole</th>\n",
       "      <th>deploy</th>\n",
       "      <th>injSeverity</th>\n",
       "      <th>caseid</th>\n",
       "    </tr>\n",
       "  </thead>\n",
       "  <tbody>\n",
       "    <tr>\n",
       "      <th>7</th>\n",
       "      <td>1</td>\n",
       "      <td>13.374</td>\n",
       "      <td>0</td>\n",
       "      <td>0</td>\n",
       "      <td>0</td>\n",
       "      <td>1</td>\n",
       "      <td>1</td>\n",
       "      <td>37</td>\n",
       "      <td>1997</td>\n",
       "      <td>1995.0</td>\n",
       "      <td>0</td>\n",
       "      <td>0</td>\n",
       "      <td>1</td>\n",
       "      <td>4.0</td>\n",
       "      <td>997</td>\n",
       "    </tr>\n",
       "    <tr>\n",
       "      <th>9</th>\n",
       "      <td>2</td>\n",
       "      <td>15.355</td>\n",
       "      <td>0</td>\n",
       "      <td>0</td>\n",
       "      <td>1</td>\n",
       "      <td>1</td>\n",
       "      <td>0</td>\n",
       "      <td>84</td>\n",
       "      <td>1997</td>\n",
       "      <td>1996.0</td>\n",
       "      <td>0</td>\n",
       "      <td>0</td>\n",
       "      <td>1</td>\n",
       "      <td>4.0</td>\n",
       "      <td>1001</td>\n",
       "    </tr>\n",
       "    <tr>\n",
       "      <th>27</th>\n",
       "      <td>3</td>\n",
       "      <td>12.536</td>\n",
       "      <td>0</td>\n",
       "      <td>0</td>\n",
       "      <td>1</td>\n",
       "      <td>1</td>\n",
       "      <td>1</td>\n",
       "      <td>27</td>\n",
       "      <td>1997</td>\n",
       "      <td>1995.0</td>\n",
       "      <td>0</td>\n",
       "      <td>1</td>\n",
       "      <td>1</td>\n",
       "      <td>4.0</td>\n",
       "      <td>1143</td>\n",
       "    </tr>\n",
       "    <tr>\n",
       "      <th>49</th>\n",
       "      <td>3</td>\n",
       "      <td>51.366</td>\n",
       "      <td>0</td>\n",
       "      <td>0</td>\n",
       "      <td>1</td>\n",
       "      <td>1</td>\n",
       "      <td>1</td>\n",
       "      <td>49</td>\n",
       "      <td>1997</td>\n",
       "      <td>1993.0</td>\n",
       "      <td>0</td>\n",
       "      <td>0</td>\n",
       "      <td>1</td>\n",
       "      <td>4.0</td>\n",
       "      <td>1</td>\n",
       "    </tr>\n",
       "    <tr>\n",
       "      <th>51</th>\n",
       "      <td>3</td>\n",
       "      <td>51.366</td>\n",
       "      <td>0</td>\n",
       "      <td>0</td>\n",
       "      <td>1</td>\n",
       "      <td>1</td>\n",
       "      <td>0</td>\n",
       "      <td>18</td>\n",
       "      <td>1997</td>\n",
       "      <td>1996.0</td>\n",
       "      <td>0</td>\n",
       "      <td>0</td>\n",
       "      <td>1</td>\n",
       "      <td>4.0</td>\n",
       "      <td>27</td>\n",
       "    </tr>\n",
       "  </tbody>\n",
       "</table>\n",
       "</div>"
      ],
      "text/plain": [
       "    dvcat  weight  Survived  airbag  seatbelt  frontal  sex  ageOFocc  \\\n",
       "7       1  13.374         0       0         0        1    1        37   \n",
       "9       2  15.355         0       0         1        1    0        84   \n",
       "27      3  12.536         0       0         1        1    1        27   \n",
       "49      3  51.366         0       0         1        1    1        49   \n",
       "51      3  51.366         0       0         1        1    0        18   \n",
       "\n",
       "    yearacc  yearVeh  abcat  occRole  deploy  injSeverity  caseid  \n",
       "7      1997   1995.0      0        0       1          4.0     997  \n",
       "9      1997   1996.0      0        0       1          4.0    1001  \n",
       "27     1997   1995.0      0        1       1          4.0    1143  \n",
       "49     1997   1993.0      0        0       1          4.0       1  \n",
       "51     1997   1996.0      0        0       1          4.0      27  "
      ]
     },
     "execution_count": 42,
     "metadata": {},
     "output_type": "execute_result"
    }
   ],
   "source": [
    "# Apply each encoder to the data set to obtain transformed values\n",
    "df2 = df.copy() # create copy of initial data set\n",
    "for column in df2.columns:\n",
    "    if column in label_encoders:\n",
    "        df2[column] = label_encoders[column].transform(df2[column])\n",
    "print(\"Transformed data set\")\n",
    "print(\"*\"*20)\n",
    "df2.head()"
   ]
  },
  {
   "cell_type": "code",
   "execution_count": 43,
   "id": "ac50bc13",
   "metadata": {},
   "outputs": [],
   "source": [
    "# Arrange data into independent variables and dependent variables\n",
    "X= df2.drop(\"Survived\",axis=1)\n",
    "y= df2[[\"Survived\"]]"
   ]
  },
  {
   "cell_type": "code",
   "execution_count": 44,
   "id": "220781b6",
   "metadata": {},
   "outputs": [],
   "source": [
    "from scipy.stats import zscore"
   ]
  },
  {
   "cell_type": "code",
   "execution_count": 45,
   "id": "314425ba",
   "metadata": {},
   "outputs": [
    {
     "data": {
      "text/html": [
       "<div>\n",
       "<style scoped>\n",
       "    .dataframe tbody tr th:only-of-type {\n",
       "        vertical-align: middle;\n",
       "    }\n",
       "\n",
       "    .dataframe tbody tr th {\n",
       "        vertical-align: top;\n",
       "    }\n",
       "\n",
       "    .dataframe thead th {\n",
       "        text-align: right;\n",
       "    }\n",
       "</style>\n",
       "<table border=\"1\" class=\"dataframe\">\n",
       "  <thead>\n",
       "    <tr style=\"text-align: right;\">\n",
       "      <th></th>\n",
       "      <th>dvcat</th>\n",
       "      <th>weight</th>\n",
       "      <th>airbag</th>\n",
       "      <th>seatbelt</th>\n",
       "      <th>frontal</th>\n",
       "      <th>sex</th>\n",
       "      <th>ageOFocc</th>\n",
       "      <th>yearacc</th>\n",
       "      <th>yearVeh</th>\n",
       "      <th>abcat</th>\n",
       "      <th>occRole</th>\n",
       "      <th>deploy</th>\n",
       "      <th>injSeverity</th>\n",
       "      <th>caseid</th>\n",
       "    </tr>\n",
       "  </thead>\n",
       "  <tbody>\n",
       "    <tr>\n",
       "      <th>7</th>\n",
       "      <td>-0.919522</td>\n",
       "      <td>-0.320180</td>\n",
       "      <td>NaN</td>\n",
       "      <td>-0.662155</td>\n",
       "      <td>NaN</td>\n",
       "      <td>0.997817</td>\n",
       "      <td>-0.046756</td>\n",
       "      <td>-4.741122</td>\n",
       "      <td>-0.868217</td>\n",
       "      <td>NaN</td>\n",
       "      <td>-0.459666</td>\n",
       "      <td>NaN</td>\n",
       "      <td>1.771054</td>\n",
       "      <td>-0.169624</td>\n",
       "    </tr>\n",
       "    <tr>\n",
       "      <th>9</th>\n",
       "      <td>0.126463</td>\n",
       "      <td>-0.317395</td>\n",
       "      <td>NaN</td>\n",
       "      <td>1.510220</td>\n",
       "      <td>NaN</td>\n",
       "      <td>-1.002187</td>\n",
       "      <td>2.563300</td>\n",
       "      <td>-4.741122</td>\n",
       "      <td>-0.521132</td>\n",
       "      <td>NaN</td>\n",
       "      <td>-0.459666</td>\n",
       "      <td>NaN</td>\n",
       "      <td>1.771054</td>\n",
       "      <td>-0.163309</td>\n",
       "    </tr>\n",
       "    <tr>\n",
       "      <th>27</th>\n",
       "      <td>1.172448</td>\n",
       "      <td>-0.321358</td>\n",
       "      <td>NaN</td>\n",
       "      <td>1.510220</td>\n",
       "      <td>NaN</td>\n",
       "      <td>0.997817</td>\n",
       "      <td>-0.602087</td>\n",
       "      <td>-4.741122</td>\n",
       "      <td>-0.868217</td>\n",
       "      <td>NaN</td>\n",
       "      <td>2.175495</td>\n",
       "      <td>NaN</td>\n",
       "      <td>1.771054</td>\n",
       "      <td>0.060882</td>\n",
       "    </tr>\n",
       "    <tr>\n",
       "      <th>49</th>\n",
       "      <td>1.172448</td>\n",
       "      <td>-0.266770</td>\n",
       "      <td>NaN</td>\n",
       "      <td>1.510220</td>\n",
       "      <td>NaN</td>\n",
       "      <td>0.997817</td>\n",
       "      <td>0.619641</td>\n",
       "      <td>-4.741122</td>\n",
       "      <td>-1.562386</td>\n",
       "      <td>NaN</td>\n",
       "      <td>-0.459666</td>\n",
       "      <td>NaN</td>\n",
       "      <td>1.771054</td>\n",
       "      <td>-1.742115</td>\n",
       "    </tr>\n",
       "    <tr>\n",
       "      <th>51</th>\n",
       "      <td>1.172448</td>\n",
       "      <td>-0.266770</td>\n",
       "      <td>NaN</td>\n",
       "      <td>1.510220</td>\n",
       "      <td>NaN</td>\n",
       "      <td>-1.002187</td>\n",
       "      <td>-1.101885</td>\n",
       "      <td>-4.741122</td>\n",
       "      <td>-0.521132</td>\n",
       "      <td>NaN</td>\n",
       "      <td>-0.459666</td>\n",
       "      <td>NaN</td>\n",
       "      <td>1.771054</td>\n",
       "      <td>-1.701066</td>\n",
       "    </tr>\n",
       "    <tr>\n",
       "      <th>...</th>\n",
       "      <td>...</td>\n",
       "      <td>...</td>\n",
       "      <td>...</td>\n",
       "      <td>...</td>\n",
       "      <td>...</td>\n",
       "      <td>...</td>\n",
       "      <td>...</td>\n",
       "      <td>...</td>\n",
       "      <td>...</td>\n",
       "      <td>...</td>\n",
       "      <td>...</td>\n",
       "      <td>...</td>\n",
       "      <td>...</td>\n",
       "      <td>...</td>\n",
       "    </tr>\n",
       "    <tr>\n",
       "      <th>11181</th>\n",
       "      <td>-0.919522</td>\n",
       "      <td>-0.330642</td>\n",
       "      <td>NaN</td>\n",
       "      <td>-0.662155</td>\n",
       "      <td>NaN</td>\n",
       "      <td>0.997817</td>\n",
       "      <td>-0.546554</td>\n",
       "      <td>0.829747</td>\n",
       "      <td>0.867206</td>\n",
       "      <td>NaN</td>\n",
       "      <td>2.175495</td>\n",
       "      <td>NaN</td>\n",
       "      <td>0.745255</td>\n",
       "      <td>1.361818</td>\n",
       "    </tr>\n",
       "    <tr>\n",
       "      <th>11185</th>\n",
       "      <td>-0.919522</td>\n",
       "      <td>-0.333072</td>\n",
       "      <td>NaN</td>\n",
       "      <td>-0.662155</td>\n",
       "      <td>NaN</td>\n",
       "      <td>-1.002187</td>\n",
       "      <td>-0.768687</td>\n",
       "      <td>0.829747</td>\n",
       "      <td>0.867206</td>\n",
       "      <td>NaN</td>\n",
       "      <td>2.175495</td>\n",
       "      <td>NaN</td>\n",
       "      <td>-1.306344</td>\n",
       "      <td>1.364976</td>\n",
       "    </tr>\n",
       "    <tr>\n",
       "      <th>11197</th>\n",
       "      <td>0.126463</td>\n",
       "      <td>-0.332063</td>\n",
       "      <td>NaN</td>\n",
       "      <td>-0.662155</td>\n",
       "      <td>NaN</td>\n",
       "      <td>0.997817</td>\n",
       "      <td>-0.879753</td>\n",
       "      <td>0.829747</td>\n",
       "      <td>1.561375</td>\n",
       "      <td>NaN</td>\n",
       "      <td>-0.459666</td>\n",
       "      <td>NaN</td>\n",
       "      <td>-1.306344</td>\n",
       "      <td>1.371291</td>\n",
       "    </tr>\n",
       "    <tr>\n",
       "      <th>11198</th>\n",
       "      <td>0.126463</td>\n",
       "      <td>-0.332063</td>\n",
       "      <td>NaN</td>\n",
       "      <td>-0.662155</td>\n",
       "      <td>NaN</td>\n",
       "      <td>0.997817</td>\n",
       "      <td>-0.824220</td>\n",
       "      <td>0.829747</td>\n",
       "      <td>1.561375</td>\n",
       "      <td>NaN</td>\n",
       "      <td>2.175495</td>\n",
       "      <td>NaN</td>\n",
       "      <td>-1.306344</td>\n",
       "      <td>1.371291</td>\n",
       "    </tr>\n",
       "    <tr>\n",
       "      <th>11214</th>\n",
       "      <td>-0.919522</td>\n",
       "      <td>-0.324257</td>\n",
       "      <td>NaN</td>\n",
       "      <td>-0.662155</td>\n",
       "      <td>NaN</td>\n",
       "      <td>-1.002187</td>\n",
       "      <td>-0.602087</td>\n",
       "      <td>0.829747</td>\n",
       "      <td>-2.603640</td>\n",
       "      <td>NaN</td>\n",
       "      <td>-0.459666</td>\n",
       "      <td>NaN</td>\n",
       "      <td>0.745255</td>\n",
       "      <td>1.289193</td>\n",
       "    </tr>\n",
       "  </tbody>\n",
       "</table>\n",
       "<p>2746 rows × 14 columns</p>\n",
       "</div>"
      ],
      "text/plain": [
       "          dvcat    weight  airbag  seatbelt  frontal       sex  ageOFocc  \\\n",
       "7     -0.919522 -0.320180     NaN -0.662155      NaN  0.997817 -0.046756   \n",
       "9      0.126463 -0.317395     NaN  1.510220      NaN -1.002187  2.563300   \n",
       "27     1.172448 -0.321358     NaN  1.510220      NaN  0.997817 -0.602087   \n",
       "49     1.172448 -0.266770     NaN  1.510220      NaN  0.997817  0.619641   \n",
       "51     1.172448 -0.266770     NaN  1.510220      NaN -1.002187 -1.101885   \n",
       "...         ...       ...     ...       ...      ...       ...       ...   \n",
       "11181 -0.919522 -0.330642     NaN -0.662155      NaN  0.997817 -0.546554   \n",
       "11185 -0.919522 -0.333072     NaN -0.662155      NaN -1.002187 -0.768687   \n",
       "11197  0.126463 -0.332063     NaN -0.662155      NaN  0.997817 -0.879753   \n",
       "11198  0.126463 -0.332063     NaN -0.662155      NaN  0.997817 -0.824220   \n",
       "11214 -0.919522 -0.324257     NaN -0.662155      NaN -1.002187 -0.602087   \n",
       "\n",
       "        yearacc   yearVeh  abcat   occRole  deploy  injSeverity    caseid  \n",
       "7     -4.741122 -0.868217    NaN -0.459666     NaN     1.771054 -0.169624  \n",
       "9     -4.741122 -0.521132    NaN -0.459666     NaN     1.771054 -0.163309  \n",
       "27    -4.741122 -0.868217    NaN  2.175495     NaN     1.771054  0.060882  \n",
       "49    -4.741122 -1.562386    NaN -0.459666     NaN     1.771054 -1.742115  \n",
       "51    -4.741122 -0.521132    NaN -0.459666     NaN     1.771054 -1.701066  \n",
       "...         ...       ...    ...       ...     ...          ...       ...  \n",
       "11181  0.829747  0.867206    NaN  2.175495     NaN     0.745255  1.361818  \n",
       "11185  0.829747  0.867206    NaN  2.175495     NaN    -1.306344  1.364976  \n",
       "11197  0.829747  1.561375    NaN -0.459666     NaN    -1.306344  1.371291  \n",
       "11198  0.829747  1.561375    NaN  2.175495     NaN    -1.306344  1.371291  \n",
       "11214  0.829747 -2.603640    NaN -0.459666     NaN     0.745255  1.289193  \n",
       "\n",
       "[2746 rows x 14 columns]"
      ]
     },
     "execution_count": 45,
     "metadata": {},
     "output_type": "execute_result"
    }
   ],
   "source": [
    "X.apply(zscore)\n"
   ]
  },
  {
   "cell_type": "code",
   "execution_count": 46,
   "id": "3b336ef6",
   "metadata": {},
   "outputs": [],
   "source": [
    "# Split X and y into training and test set in 70:30 ratio\n",
    "from sklearn.model_selection import train_test_split\n",
    "X_train, X_test, y_train, y_test = train_test_split(X, y, test_size=0.30 , random_state=1)\n"
   ]
  },
  {
   "cell_type": "code",
   "execution_count": 47,
   "id": "b957f305",
   "metadata": {},
   "outputs": [
    {
     "name": "stdout",
     "output_type": "stream",
     "text": [
      "Logistic Model Score for Train Data is  0.9745057232049948\n"
     ]
    }
   ],
   "source": [
    "Logistic_model= LogisticRegression(solver='newton-cg',max_iter=10000,penalty='none')\n",
    "Logistic_model.fit(X_train, y_train)\n",
    "y_train_predict=Logistic_model.predict(X_train)\n",
    "Logistic_model_score=Logistic_model.score(X_train,y_train)\n",
    "print(\"Logistic Model Score for Train Data is \", Logistic_model_score)"
   ]
  },
  {
   "cell_type": "code",
   "execution_count": 48,
   "id": "1d382fd1",
   "metadata": {},
   "outputs": [
    {
     "data": {
      "text/plain": [
       "LinearDiscriminantAnalysis()"
      ]
     },
     "execution_count": 48,
     "metadata": {},
     "output_type": "execute_result"
    }
   ],
   "source": [
    "LDA_model=LinearDiscriminantAnalysis()\n",
    "LDA_model.fit(X_train,y_train)"
   ]
  },
  {
   "cell_type": "code",
   "execution_count": 49,
   "id": "70a3db5b",
   "metadata": {},
   "outputs": [
    {
     "name": "stdout",
     "output_type": "stream",
     "text": [
      "LDA Model Score for Training Data without GridSearch is 0.9656607700312175\n"
     ]
    }
   ],
   "source": [
    "# Training Data Class Prediction \n",
    "y_train_predict=LDA_model.predict(X_train)\n",
    "LDA_model_score=LDA_model.score(X_train,y_train)\n",
    "print(\"LDA Model Score for Training Data without GridSearch is\",LDA_model_score)"
   ]
  },
  {
   "cell_type": "code",
   "execution_count": 50,
   "id": "76154468",
   "metadata": {},
   "outputs": [
    {
     "name": "stdout",
     "output_type": "stream",
     "text": [
      "LDA Model Score for Test Data without GridSearch is 0.9587378640776699\n"
     ]
    }
   ],
   "source": [
    "# Test Data Class Prediction \n",
    "y_test_predict=LDA_model.predict(X_test)\n",
    "LDA_model_score=LDA_model.score(X_test,y_test)\n",
    "print(\"LDA Model Score for Test Data without GridSearch is\",LDA_model_score)"
   ]
  },
  {
   "cell_type": "code",
   "execution_count": 51,
   "id": "5bb15f98",
   "metadata": {},
   "outputs": [
    {
     "name": "stdout",
     "output_type": "stream",
     "text": [
      "0.9745057232049948\n",
      "[[ 112   30]\n",
      " [  19 1761]]\n",
      "              precision    recall  f1-score   support\n",
      "\n",
      "           0       0.85      0.79      0.82       142\n",
      "           1       0.98      0.99      0.99      1780\n",
      "\n",
      "    accuracy                           0.97      1922\n",
      "   macro avg       0.92      0.89      0.90      1922\n",
      "weighted avg       0.97      0.97      0.97      1922\n",
      "\n"
     ]
    }
   ],
   "source": [
    "y_train_predict=Logistic_model.predict(X_train)\n",
    "Logistic_model_score=Logistic_model.score(X_train,y_train)\n",
    "print(Logistic_model_score)\n",
    "print(metrics.confusion_matrix(y_train,y_train_predict))\n",
    "print(metrics.classification_report(y_train,y_train_predict))"
   ]
  },
  {
   "cell_type": "code",
   "execution_count": 52,
   "id": "2425d14e",
   "metadata": {},
   "outputs": [
    {
     "data": {
      "image/png": "[encoded data removed]",
      "text/plain": [
       "<Figure size 432x288 with 2 Axes>"
      ]
     },
     "metadata": {
      "needs_background": "light"
     },
     "output_type": "display_data"
    }
   ],
   "source": [
    "ax=sns.heatmap(metrics.confusion_matrix(y_train,y_train_predict),annot=True, fmt='d')\n",
    "plt.xlabel('Predicted Label')\n",
    "plt.ylabel('Actual Label')\n",
    "plt.title('Confusion Matrix of LR Model before Grid Search-Train Data')\n",
    "plt.show()"
   ]
  },
  {
   "cell_type": "code",
   "execution_count": 53,
   "id": "7acd5669",
   "metadata": {},
   "outputs": [
    {
     "name": "stdout",
     "output_type": "stream",
     "text": [
      "AUC of LR model without Grid Search for Train Data is: 0.987\n"
     ]
    },
    {
     "data": {
      "text/plain": [
       "Text(0.5, 1.0, ' AUC-ROC Train Data-LR Model without GridSearch ')"
      ]
     },
     "execution_count": 53,
     "metadata": {},
     "output_type": "execute_result"
    },
    {
     "data": {
      "image/png": "[encoded data removed]",
      "text/plain": [
       "<Figure size 432x288 with 1 Axes>"
      ]
     },
     "metadata": {
      "needs_background": "light"
     },
     "output_type": "display_data"
    }
   ],
   "source": [
    "# predict probabilities\n",
    "probs= Logistic_model.predict_proba(X_train)\n",
    "# keep probabilities for the positive outcome only \n",
    "probs= probs[:,1]\n",
    "# calculate AUC \n",
    "auc= roc_auc_score(y_train, probs)\n",
    "print('AUC of LR model without Grid Search for Train Data is: %.3f' % auc)\n",
    "# calculate roc curve \n",
    "train_fpr, train_tpr, train_thresholds= roc_curve(y_train, probs)\n",
    "plt.plot([0,1], [0,1], linestyle='--')\n",
    "# plot the roc curve for the model\n",
    "plt.plot(train_fpr, train_tpr);\n",
    "plt.xlabel(\"False Positive Rate\")\n",
    "plt.ylabel(\"True Positive Rate\")\n",
    "plt.title(\" AUC-ROC Train Data-LR Model without GridSearch \")"
   ]
  },
  {
   "cell_type": "code",
   "execution_count": 54,
   "id": "061e89ce",
   "metadata": {},
   "outputs": [
    {
     "name": "stdout",
     "output_type": "stream",
     "text": [
      "0.9769417475728155\n",
      "[[ 45  14]\n",
      " [  5 760]]\n",
      "              precision    recall  f1-score   support\n",
      "\n",
      "           0       0.90      0.76      0.83        59\n",
      "           1       0.98      0.99      0.99       765\n",
      "\n",
      "    accuracy                           0.98       824\n",
      "   macro avg       0.94      0.88      0.91       824\n",
      "weighted avg       0.98      0.98      0.98       824\n",
      "\n"
     ]
    }
   ],
   "source": [
    "y_test_predict=Logistic_model.predict(X_test)\n",
    "Logistic_model_score=Logistic_model.score(X_test,y_test)\n",
    "print(Logistic_model_score)\n",
    "print(metrics.confusion_matrix(y_test,y_test_predict))\n",
    "print(metrics.classification_report(y_test,y_test_predict))"
   ]
  },
  {
   "cell_type": "code",
   "execution_count": 55,
   "id": "f1ca4f91",
   "metadata": {},
   "outputs": [
    {
     "data": {
      "image/png": "[encoded data removed]",
      "text/plain": [
       "<Figure size 432x288 with 2 Axes>"
      ]
     },
     "metadata": {
      "needs_background": "light"
     },
     "output_type": "display_data"
    }
   ],
   "source": [
    "# Confusion Matrix of Logistic Reg Model-Test Data\n",
    "ax=sns.heatmap(metrics.confusion_matrix(y_test,y_test_predict),annot=True, fmt='d')\n",
    "plt.xlabel('Predicted Label')\n",
    "plt.ylabel('Actual Label')\n",
    "plt.title('Confusion Matrix of LR Model before Grid Search-Test Data')\n",
    "plt.show()"
   ]
  },
  {
   "cell_type": "code",
   "execution_count": 56,
   "id": "1bb87829",
   "metadata": {},
   "outputs": [
    {
     "name": "stdout",
     "output_type": "stream",
     "text": [
      "AUC of LR model without Grid Search for Test Data is: 0.994\n"
     ]
    },
    {
     "data": {
      "text/plain": [
       "Text(0.5, 1.0, ' AUC-ROC Test Data-LR Model without GridSearch ')"
      ]
     },
     "execution_count": 56,
     "metadata": {},
     "output_type": "execute_result"
    },
    {
     "data": {
      "image/png": "[encoded data removed]",
      "text/plain": [
       "<Figure size 432x288 with 1 Axes>"
      ]
     },
     "metadata": {
      "needs_background": "light"
     },
     "output_type": "display_data"
    }
   ],
   "source": [
    "# predict probabilities\n",
    "probs= Logistic_model.predict_proba(X_test)\n",
    "# keep probabilities for the positive outcome only \n",
    "probs= probs[:,1]\n",
    "# calculate AUC \n",
    "auc= roc_auc_score(y_test, probs)\n",
    "print('AUC of LR model without Grid Search for Test Data is: %.3f' % auc)\n",
    "# calculate roc curve \n",
    "test_fpr, test_tpr, test_thresholds= roc_curve(y_test, probs)\n",
    "plt.plot([0,1], [0,1], linestyle='--')\n",
    "# plot the roc curve for the model\n",
    "plt.plot(test_fpr, test_tpr);\n",
    "plt.xlabel(\"False Positive Rate\")\n",
    "plt.ylabel(\"True Positive Rate\")\n",
    "plt.title(\" AUC-ROC Test Data-LR Model without GridSearch \")"
   ]
  },
  {
   "cell_type": "code",
   "execution_count": 57,
   "id": "c487fb82",
   "metadata": {},
   "outputs": [
    {
     "name": "stdout",
     "output_type": "stream",
     "text": [
      "[[ 112   30]\n",
      " [  19 1761]]\n",
      "              precision    recall  f1-score   support\n",
      "\n",
      "           0       0.85      0.79      0.82       142\n",
      "           1       0.98      0.99      0.99      1780\n",
      "\n",
      "    accuracy                           0.97      1922\n",
      "   macro avg       0.92      0.89      0.90      1922\n",
      "weighted avg       0.97      0.97      0.97      1922\n",
      "\n"
     ]
    }
   ],
   "source": [
    "print(metrics.confusion_matrix(y_train,y_train_predict))\n",
    "print(metrics.classification_report(y_train,y_train_predict))\n"
   ]
  },
  {
   "cell_type": "code",
   "execution_count": 58,
   "id": "c5ca5734",
   "metadata": {},
   "outputs": [
    {
     "data": {
      "image/png": "[encoded data removed]",
      "text/plain": [
       "<Figure size 432x288 with 2 Axes>"
      ]
     },
     "metadata": {
      "needs_background": "light"
     },
     "output_type": "display_data"
    }
   ],
   "source": [
    "#Confusion Matrix of LDA Model-Train Data\n",
    "ax=sns.heatmap(metrics.confusion_matrix(y_train,y_train_predict),annot=True, fmt='d')\n",
    "plt.xlabel('Predicted Label')\n",
    "plt.ylabel('Actual Label')\n",
    "plt.title('Confusion Matrix of LDA Model without GridSearch-Train Data')\n",
    "plt.show()"
   ]
  },
  {
   "cell_type": "code",
   "execution_count": 59,
   "id": "fdcdd1b5",
   "metadata": {},
   "outputs": [
    {
     "name": "stdout",
     "output_type": "stream",
     "text": [
      "the auc 0.965 \n"
     ]
    },
    {
     "data": {
      "text/plain": [
       "Text(0.5, 1.0, ' AUC-ROC Train Data-LDA Model without GridSearch ')"
      ]
     },
     "execution_count": 59,
     "metadata": {},
     "output_type": "execute_result"
    },
    {
     "data": {
      "image/png": "[encoded data removed]",
      "text/plain": [
       "<Figure size 432x288 with 1 Axes>"
      ]
     },
     "metadata": {
      "needs_background": "light"
     },
     "output_type": "display_data"
    }
   ],
   "source": [
    "probs_train=LDA_model.predict_proba(X_train)\n",
    "probs_train=probs_train[:,1]\n",
    "auc=roc_auc_score(y_train,probs_train)\n",
    "print(\"the auc %.3f \" % auc)\n",
    "train_fpr ,train_tpr, train_thresholds= roc_curve(y_train,probs_train)\n",
    "plt.plot([0,1],[0,1],linestyle='--')\n",
    "plt.plot(train_fpr,train_tpr);\n",
    "plt.xlabel(\"False Positive Rate\")\n",
    "plt.ylabel(\"True Positive Rate\")\n",
    "plt.title(\" AUC-ROC Train Data-LDA Model without GridSearch \")\n"
   ]
  },
  {
   "cell_type": "code",
   "execution_count": 60,
   "id": "146e29ef",
   "metadata": {},
   "outputs": [
    {
     "name": "stdout",
     "output_type": "stream",
     "text": [
      "[[ 45  14]\n",
      " [  5 760]]\n",
      "              precision    recall  f1-score   support\n",
      "\n",
      "           0       0.90      0.76      0.83        59\n",
      "           1       0.98      0.99      0.99       765\n",
      "\n",
      "    accuracy                           0.98       824\n",
      "   macro avg       0.94      0.88      0.91       824\n",
      "weighted avg       0.98      0.98      0.98       824\n",
      "\n"
     ]
    }
   ],
   "source": [
    "print(metrics.confusion_matrix(y_test,y_test_predict))\n",
    "print(metrics.classification_report(y_test,y_test_predict))"
   ]
  },
  {
   "cell_type": "code",
   "execution_count": 61,
   "id": "6f3f61a0",
   "metadata": {},
   "outputs": [
    {
     "data": {
      "image/png": "[encoded data removed]",
      "text/plain": [
       "<Figure size 432x288 with 2 Axes>"
      ]
     },
     "metadata": {
      "needs_background": "light"
     },
     "output_type": "display_data"
    }
   ],
   "source": [
    "# Confusion Matrix of LDA Model-Test Data\n",
    "ax=sns.heatmap(metrics.confusion_matrix(y_test,y_test_predict),annot=True, fmt='d')\n",
    "plt.xlabel('Predicted Label')\n",
    "plt.ylabel('Actual Label')\n",
    "plt.title('Confusion Matrix of LDA Model without GridSearch-Test Data')\n",
    "plt.show()"
   ]
  },
  {
   "cell_type": "code",
   "execution_count": 62,
   "id": "300a00db",
   "metadata": {},
   "outputs": [
    {
     "name": "stdout",
     "output_type": "stream",
     "text": [
      "the auc 0.969 \n"
     ]
    },
    {
     "data": {
      "text/plain": [
       "Text(0.5, 1.0, ' AUC-ROC Test Data-LDA Model without GridSearch ')"
      ]
     },
     "execution_count": 62,
     "metadata": {},
     "output_type": "execute_result"
    },
    {
     "data": {
      "image/png": "[encoded data removed]",
      "text/plain": [
       "<Figure size 432x288 with 1 Axes>"
      ]
     },
     "metadata": {
      "needs_background": "light"
     },
     "output_type": "display_data"
    }
   ],
   "source": [
    "probs_test=LDA_model.predict_proba(X_test)\n",
    "probs_test=probs_test[:,1]\n",
    "auc=roc_auc_score(y_test,probs_test)\n",
    "print(\"the auc %.3f \" % auc)\n",
    "test_fpr ,test_tpr, test_thresholds= roc_curve(y_test,probs_test)\n",
    "plt.plot([0,1],[0,1],linestyle='--')\n",
    "plt.plot(test_fpr ,test_tpr);\n",
    "plt.xlabel(\"False Positive Rate\")\n",
    "plt.ylabel(\"True Positive Rate\")\n",
    "plt.title(\" AUC-ROC Test Data-LDA Model without GridSearch \")"
   ]
  },
  {
   "cell_type": "code",
   "execution_count": null,
   "id": "52714ced",
   "metadata": {},
   "outputs": [],
   "source": []
  }
 ],
 "metadata": {
  "kernelspec": {
   "display_name": "Python 3",
   "language": "python",
   "name": "python3"
  },
  "language_info": {
   "codemirror_mode": {
    "name": "ipython",
    "version": 3
   },
   "file_extension": ".py",
   "mimetype": "text/x-python",
   "name": "python",
   "nbconvert_exporter": "python",
   "pygments_lexer": "ipython3",
   "version": "3.8.8"
  }
 },
 "nbformat": 4,
 "nbformat_minor": 5
}
